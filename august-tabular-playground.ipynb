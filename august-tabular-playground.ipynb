{
 "cells": [
  {
   "cell_type": "code",
   "execution_count": 1,
   "id": "a9e68800",
   "metadata": {
    "_cell_guid": "b1076dfc-b9ad-4769-8c92-a6c4dae69d19",
    "_uuid": "8f2839f25d086af736a60e9eeb907d3b93b6e0e5",
    "execution": {
     "iopub.execute_input": "2022-11-02T04:47:28.910555Z",
     "iopub.status.busy": "2022-11-02T04:47:28.910119Z",
     "iopub.status.idle": "2022-11-02T04:47:28.920710Z",
     "shell.execute_reply": "2022-11-02T04:47:28.920027Z"
    },
    "papermill": {
     "duration": 0.025886,
     "end_time": "2022-11-02T04:47:28.923220",
     "exception": false,
     "start_time": "2022-11-02T04:47:28.897334",
     "status": "completed"
    },
    "tags": []
   },
   "outputs": [
    {
     "name": "stdout",
     "output_type": "stream",
     "text": [
      "/kaggle/input/tabular-playground-series-aug-2022/sample_submission.csv\n",
      "/kaggle/input/tabular-playground-series-aug-2022/train.csv\n",
      "/kaggle/input/tabular-playground-series-aug-2022/test.csv\n"
     ]
    }
   ],
   "source": [
    "# This Python 3 environment comes with many helpful analytics libraries installed\n",
    "# It is defined by the kaggle/python Docker image: https://github.com/kaggle/docker-python\n",
    "# For example, here's several helpful packages to load\n",
    "\n",
    "import numpy as np # linear algebra\n",
    "import pandas as pd # data processing, CSV file I/O (e.g. pd.read_csv)\n",
    "\n",
    "# Input data files are available in the read-only \"../input/\" directory\n",
    "# For example, running this (by clicking run or pressing Shift+Enter) will list all files under the input directory\n",
    "\n",
    "import os\n",
    "for dirname, _, filenames in os.walk('/kaggle/input'):\n",
    "    for filename in filenames:\n",
    "        print(os.path.join(dirname, filename))\n",
    "\n",
    "# You can write up to 20GB to the current directory (/kaggle/working/) that gets preserved as output when you create a version using \"Save & Run All\" \n",
    "# You can also write temporary files to /kaggle/temp/, but they won't be saved outside of the current session"
   ]
  },
  {
   "cell_type": "code",
   "execution_count": 2,
   "id": "651dcbc1",
   "metadata": {
    "execution": {
     "iopub.execute_input": "2022-11-02T04:47:28.946496Z",
     "iopub.status.busy": "2022-11-02T04:47:28.946128Z",
     "iopub.status.idle": "2022-11-02T04:47:28.955622Z",
     "shell.execute_reply": "2022-11-02T04:47:28.954737Z"
    },
    "papermill": {
     "duration": 0.023774,
     "end_time": "2022-11-02T04:47:28.957429",
     "exception": false,
     "start_time": "2022-11-02T04:47:28.933655",
     "status": "completed"
    },
    "tags": []
   },
   "outputs": [],
   "source": [
    "SEED = 21\n",
    "def seed_everythings(seed,tensorflow_init=True,pytorch_init=True):\n",
    "    random.seed(seed)\n",
    "    os.environ[\"PYTHONHASHSEED\"] = str(seed)\n",
    "    np.random.seed(seed)\n",
    "    if tensorflow_init is True:\n",
    "        tf.random.set_seed(seed)\n",
    "    if pytorch_init is True:\n",
    "        torch.manual_seed(seed)\n",
    "        torch.cuda.manual_seed(seed)\n",
    "        torch.backends.cudnn.deterministic = True\n",
    "        torch.backends.cudnn.benchmark = False\n",
    "        \n",
    "    "
   ]
  },
  {
   "cell_type": "markdown",
   "id": "97355e0c",
   "metadata": {
    "papermill": {
     "duration": 0.010055,
     "end_time": "2022-11-02T04:47:28.978059",
     "exception": false,
     "start_time": "2022-11-02T04:47:28.968004",
     "status": "completed"
    },
    "tags": []
   },
   "source": [
    "# 1) EDA"
   ]
  },
  {
   "cell_type": "markdown",
   "id": "a74f62d6",
   "metadata": {
    "papermill": {
     "duration": 0.010103,
     "end_time": "2022-11-02T04:47:28.998684",
     "exception": false,
     "start_time": "2022-11-02T04:47:28.988581",
     "status": "completed"
    },
    "tags": []
   },
   "source": [
    "## 1.1) Missing values inspection and diff between train/test"
   ]
  },
  {
   "cell_type": "code",
   "execution_count": 3,
   "id": "e6f1cbd2",
   "metadata": {
    "execution": {
     "iopub.execute_input": "2022-11-02T04:47:29.020638Z",
     "iopub.status.busy": "2022-11-02T04:47:29.020286Z",
     "iopub.status.idle": "2022-11-02T04:47:29.293742Z",
     "shell.execute_reply": "2022-11-02T04:47:29.292652Z"
    },
    "papermill": {
     "duration": 0.28694,
     "end_time": "2022-11-02T04:47:29.295764",
     "exception": false,
     "start_time": "2022-11-02T04:47:29.008824",
     "status": "completed"
    },
    "tags": []
   },
   "outputs": [
    {
     "name": "stdout",
     "output_type": "stream",
     "text": [
      "train data shape: (26570, 21)\n",
      "test data shape: (20775, 21)\n",
      "out of 21 features, there are 16 features have missing values\n"
     ]
    },
    {
     "data": {
      "text/html": [
       "<div>\n",
       "<style scoped>\n",
       "    .dataframe tbody tr th:only-of-type {\n",
       "        vertical-align: middle;\n",
       "    }\n",
       "\n",
       "    .dataframe tbody tr th {\n",
       "        vertical-align: top;\n",
       "    }\n",
       "\n",
       "    .dataframe thead th {\n",
       "        text-align: right;\n",
       "    }\n",
       "</style>\n",
       "<table border=\"1\" class=\"dataframe\">\n",
       "  <thead>\n",
       "    <tr style=\"text-align: right;\">\n",
       "      <th></th>\n",
       "      <th>total missing</th>\n",
       "      <th>% missing</th>\n",
       "    </tr>\n",
       "  </thead>\n",
       "  <tbody>\n",
       "    <tr>\n",
       "      <th>measurement_17</th>\n",
       "      <td>2284</td>\n",
       "      <td>0.09</td>\n",
       "    </tr>\n",
       "    <tr>\n",
       "      <th>measurement_16</th>\n",
       "      <td>2110</td>\n",
       "      <td>0.08</td>\n",
       "    </tr>\n",
       "    <tr>\n",
       "      <th>measurement_15</th>\n",
       "      <td>2009</td>\n",
       "      <td>0.08</td>\n",
       "    </tr>\n",
       "    <tr>\n",
       "      <th>measurement_14</th>\n",
       "      <td>1874</td>\n",
       "      <td>0.07</td>\n",
       "    </tr>\n",
       "    <tr>\n",
       "      <th>measurement_13</th>\n",
       "      <td>1774</td>\n",
       "      <td>0.07</td>\n",
       "    </tr>\n",
       "    <tr>\n",
       "      <th>measurement_12</th>\n",
       "      <td>1601</td>\n",
       "      <td>0.06</td>\n",
       "    </tr>\n",
       "    <tr>\n",
       "      <th>measurement_11</th>\n",
       "      <td>1468</td>\n",
       "      <td>0.06</td>\n",
       "    </tr>\n",
       "    <tr>\n",
       "      <th>measurement_10</th>\n",
       "      <td>1300</td>\n",
       "      <td>0.05</td>\n",
       "    </tr>\n",
       "    <tr>\n",
       "      <th>measurement_9</th>\n",
       "      <td>1227</td>\n",
       "      <td>0.05</td>\n",
       "    </tr>\n",
       "    <tr>\n",
       "      <th>measurement_8</th>\n",
       "      <td>1048</td>\n",
       "      <td>0.04</td>\n",
       "    </tr>\n",
       "    <tr>\n",
       "      <th>measurement_7</th>\n",
       "      <td>937</td>\n",
       "      <td>0.04</td>\n",
       "    </tr>\n",
       "    <tr>\n",
       "      <th>measurement_6</th>\n",
       "      <td>796</td>\n",
       "      <td>0.03</td>\n",
       "    </tr>\n",
       "    <tr>\n",
       "      <th>measurement_5</th>\n",
       "      <td>676</td>\n",
       "      <td>0.03</td>\n",
       "    </tr>\n",
       "    <tr>\n",
       "      <th>measurement_4</th>\n",
       "      <td>538</td>\n",
       "      <td>0.02</td>\n",
       "    </tr>\n",
       "    <tr>\n",
       "      <th>measurement_3</th>\n",
       "      <td>381</td>\n",
       "      <td>0.01</td>\n",
       "    </tr>\n",
       "    <tr>\n",
       "      <th>loading</th>\n",
       "      <td>250</td>\n",
       "      <td>0.01</td>\n",
       "    </tr>\n",
       "  </tbody>\n",
       "</table>\n",
       "</div>"
      ],
      "text/plain": [
       "                total missing  % missing\n",
       "measurement_17           2284       0.09\n",
       "measurement_16           2110       0.08\n",
       "measurement_15           2009       0.08\n",
       "measurement_14           1874       0.07\n",
       "measurement_13           1774       0.07\n",
       "measurement_12           1601       0.06\n",
       "measurement_11           1468       0.06\n",
       "measurement_10           1300       0.05\n",
       "measurement_9            1227       0.05\n",
       "measurement_8            1048       0.04\n",
       "measurement_7             937       0.04\n",
       "measurement_6             796       0.03\n",
       "measurement_5             676       0.03\n",
       "measurement_4             538       0.02\n",
       "measurement_3             381       0.01\n",
       "loading                   250       0.01"
      ]
     },
     "execution_count": 3,
     "metadata": {},
     "output_type": "execute_result"
    }
   ],
   "source": [
    "train = pd.read_csv('/kaggle/input/tabular-playground-series-aug-2022/train.csv')\n",
    "test = pd.read_csv('/kaggle/input/tabular-playground-series-aug-2022/test.csv')\n",
    "train_label = train['failure']\n",
    "\n",
    "train.drop(['failure','id','product_code','attribute_0',\n",
    "           'attribute_1'],inplace = True,axis = 1)\n",
    "train.drop_duplicates(inplace = True)\n",
    "test.drop(['id','product_code','attribute_0',\n",
    "           'attribute_1'],inplace = True,axis = 1)\n",
    "test.drop_duplicates(inplace = True)\n",
    "\n",
    "print(f'train data shape: {train.shape}')\n",
    "print(f'test data shape: {test.shape}')\n",
    "\n",
    "def check_missing(df):\n",
    "    missing_sum = df.isna().sum()\n",
    "    missing_freq = missing_sum/len(df)\n",
    "    missing_df = pd.concat([missing_sum,missing_freq],axis = 1)\n",
    "    missing_df = missing_df.rename(columns = {0:'total missing',1:'% missing'})\n",
    "    tmp = missing_df[missing_df.iloc[:,0]!=0].sort_values('% missing',ascending=False).round(2)\n",
    "    \n",
    "    print(f'out of {df.shape[1]} features, there are {tmp.shape[0]} features have missing values')\n",
    "    return tmp\n",
    "\n",
    "check_missing(train)\n",
    "#check_missing(test).head()\n",
    "    "
   ]
  },
  {
   "cell_type": "code",
   "execution_count": null,
   "id": "59a3e8a1",
   "metadata": {
    "papermill": {
     "duration": 0.009973,
     "end_time": "2022-11-02T04:47:29.316264",
     "exception": false,
     "start_time": "2022-11-02T04:47:29.306291",
     "status": "completed"
    },
    "tags": []
   },
   "outputs": [],
   "source": []
  },
  {
   "cell_type": "code",
   "execution_count": 4,
   "id": "06b38e8d",
   "metadata": {
    "execution": {
     "iopub.execute_input": "2022-11-02T04:47:29.338584Z",
     "iopub.status.busy": "2022-11-02T04:47:29.338181Z",
     "iopub.status.idle": "2022-11-02T04:47:39.521009Z",
     "shell.execute_reply": "2022-11-02T04:47:39.519968Z"
    },
    "papermill": {
     "duration": 10.19662,
     "end_time": "2022-11-02T04:47:39.523273",
     "exception": false,
     "start_time": "2022-11-02T04:47:29.326653",
     "status": "completed"
    },
    "tags": []
   },
   "outputs": [
    {
     "name": "stdout",
     "output_type": "stream",
     "text": [
      "Requirement already satisfied: missingno in /opt/conda/lib/python3.7/site-packages (0.4.2)\r\n",
      "Requirement already satisfied: numpy in /opt/conda/lib/python3.7/site-packages (from missingno) (1.21.6)\r\n",
      "Requirement already satisfied: seaborn in /opt/conda/lib/python3.7/site-packages (from missingno) (0.11.2)\r\n",
      "Requirement already satisfied: matplotlib in /opt/conda/lib/python3.7/site-packages (from missingno) (3.5.3)\r\n",
      "Requirement already satisfied: scipy in /opt/conda/lib/python3.7/site-packages (from missingno) (1.7.3)\r\n",
      "Requirement already satisfied: cycler>=0.10 in /opt/conda/lib/python3.7/site-packages (from matplotlib->missingno) (0.11.0)\r\n",
      "Requirement already satisfied: pyparsing>=2.2.1 in /opt/conda/lib/python3.7/site-packages (from matplotlib->missingno) (3.0.9)\r\n",
      "Requirement already satisfied: pillow>=6.2.0 in /opt/conda/lib/python3.7/site-packages (from matplotlib->missingno) (9.1.1)\r\n",
      "Requirement already satisfied: packaging>=20.0 in /opt/conda/lib/python3.7/site-packages (from matplotlib->missingno) (21.3)\r\n",
      "Requirement already satisfied: python-dateutil>=2.7 in /opt/conda/lib/python3.7/site-packages (from matplotlib->missingno) (2.8.2)\r\n",
      "Requirement already satisfied: fonttools>=4.22.0 in /opt/conda/lib/python3.7/site-packages (from matplotlib->missingno) (4.33.3)\r\n",
      "Requirement already satisfied: kiwisolver>=1.0.1 in /opt/conda/lib/python3.7/site-packages (from matplotlib->missingno) (1.4.3)\r\n",
      "Requirement already satisfied: pandas>=0.23 in /opt/conda/lib/python3.7/site-packages (from seaborn->missingno) (1.3.5)\r\n",
      "Requirement already satisfied: typing-extensions in /opt/conda/lib/python3.7/site-packages (from kiwisolver>=1.0.1->matplotlib->missingno) (4.4.0)\r\n",
      "Requirement already satisfied: pytz>=2017.3 in /opt/conda/lib/python3.7/site-packages (from pandas>=0.23->seaborn->missingno) (2022.1)\r\n",
      "Requirement already satisfied: six>=1.5 in /opt/conda/lib/python3.7/site-packages (from python-dateutil>=2.7->matplotlib->missingno) (1.15.0)\r\n",
      "\u001b[33mWARNING: Running pip as the 'root' user can result in broken permissions and conflicting behaviour with the system package manager. It is recommended to use a virtual environment instead: https://pip.pypa.io/warnings/venv\u001b[0m\u001b[33m\r\n",
      "\u001b[0m"
     ]
    }
   ],
   "source": [
    "!pip install missingno "
   ]
  },
  {
   "cell_type": "code",
   "execution_count": 5,
   "id": "3da92d46",
   "metadata": {
    "execution": {
     "iopub.execute_input": "2022-11-02T04:47:39.546120Z",
     "iopub.status.busy": "2022-11-02T04:47:39.545730Z",
     "iopub.status.idle": "2022-11-02T04:47:42.032616Z",
     "shell.execute_reply": "2022-11-02T04:47:42.031579Z"
    },
    "papermill": {
     "duration": 2.500705,
     "end_time": "2022-11-02T04:47:42.034681",
     "exception": false,
     "start_time": "2022-11-02T04:47:39.533976",
     "status": "completed"
    },
    "tags": []
   },
   "outputs": [
    {
     "data": {
      "text/plain": [
       "<AxesSubplot:>"
      ]
     },
     "execution_count": 5,
     "metadata": {},
     "output_type": "execute_result"
    },
    {
     "data": {
      "image/png": "[encoded data removed]",
      "text/plain": [
       "<Figure size 1800x720 with 2 Axes>"
      ]
     },
     "metadata": {
      "needs_background": "light"
     },
     "output_type": "display_data"
    },
    {
     "data": {
      "image/png": "[encoded data removed]",
      "text/plain": [
       "<Figure size 1440x864 with 2 Axes>"
      ]
     },
     "metadata": {
      "needs_background": "light"
     },
     "output_type": "display_data"
    },
    {
     "data": {
      "image/png": "[encoded data removed]",
      "text/plain": [
       "<Figure size 1800x720 with 1 Axes>"
      ]
     },
     "metadata": {
      "needs_background": "light"
     },
     "output_type": "display_data"
    }
   ],
   "source": [
    "import missingno as msno\n",
    "msno.matrix(train)\n",
    "msno.heatmap(train)\n",
    "msno.dendrogram(train)"
   ]
  },
  {
   "cell_type": "code",
   "execution_count": 6,
   "id": "92dd9463",
   "metadata": {
    "execution": {
     "iopub.execute_input": "2022-11-02T04:47:42.061559Z",
     "iopub.status.busy": "2022-11-02T04:47:42.060996Z",
     "iopub.status.idle": "2022-11-02T04:47:42.073498Z",
     "shell.execute_reply": "2022-11-02T04:47:42.072043Z"
    },
    "papermill": {
     "duration": 0.028225,
     "end_time": "2022-11-02T04:47:42.075480",
     "exception": false,
     "start_time": "2022-11-02T04:47:42.047255",
     "status": "completed"
    },
    "tags": []
   },
   "outputs": [
    {
     "name": "stderr",
     "output_type": "stream",
     "text": [
      "/opt/conda/lib/python3.7/site-packages/ipykernel_launcher.py:10: DeprecationWarning: The default dtype for empty Series will be 'object' instead of 'float64' in a future version. Specify a dtype explicitly to silence this warning.\n",
      "  # Remove the CWD from sys.path while we load stuff.\n"
     ]
    },
    {
     "data": {
      "text/plain": [
       "Series([], dtype: float64)"
      ]
     },
     "execution_count": 6,
     "metadata": {},
     "output_type": "execute_result"
    }
   ],
   "source": [
    "cate_cols = train.select_dtypes(['object'])\n",
    "def diff_between_train_test(train,test,cate_cols):\n",
    "    ans = {}\n",
    "    for col in cate_cols:\n",
    "        train_val = np.unique(train[col].values)\n",
    "        test_val = np.unique(test[col].values)\n",
    "        mismatched_codes = len(np.setdiff1d(train_val, test_val))\n",
    "        if mismatched_codes:\n",
    "            ans[col]=mismatched_codes\n",
    "    return pd.Series(ans)\n",
    "\n",
    "diff_between_train_test(train,test,cate_cols)"
   ]
  },
  {
   "cell_type": "code",
   "execution_count": 7,
   "id": "93beaad2",
   "metadata": {
    "execution": {
     "iopub.execute_input": "2022-11-02T04:47:42.104551Z",
     "iopub.status.busy": "2022-11-02T04:47:42.103366Z",
     "iopub.status.idle": "2022-11-02T04:47:42.302085Z",
     "shell.execute_reply": "2022-11-02T04:47:42.301184Z"
    },
    "papermill": {
     "duration": 0.215411,
     "end_time": "2022-11-02T04:47:42.304150",
     "exception": false,
     "start_time": "2022-11-02T04:47:42.088739",
     "status": "completed"
    },
    "tags": []
   },
   "outputs": [
    {
     "data": {
      "image/png": "[encoded data removed]",
      "text/plain": [
       "<Figure size 720x432 with 1 Axes>"
      ]
     },
     "metadata": {
      "needs_background": "light"
     },
     "output_type": "display_data"
    }
   ],
   "source": [
    "import seaborn as sns\n",
    "import matplotlib.pyplot as plt\n",
    "fig, ax = plt.subplots(1, 1, figsize=(10, 6))\n",
    "sns.histplot(train_label, ax=ax)\n",
    "plt.show()"
   ]
  },
  {
   "cell_type": "code",
   "execution_count": 8,
   "id": "dc4ad120",
   "metadata": {
    "execution": {
     "iopub.execute_input": "2022-11-02T04:47:42.331844Z",
     "iopub.status.busy": "2022-11-02T04:47:42.331522Z",
     "iopub.status.idle": "2022-11-02T04:47:47.655429Z",
     "shell.execute_reply": "2022-11-02T04:47:47.654234Z"
    },
    "papermill": {
     "duration": 5.34093,
     "end_time": "2022-11-02T04:47:47.658054",
     "exception": false,
     "start_time": "2022-11-02T04:47:42.317124",
     "status": "completed"
    },
    "tags": []
   },
   "outputs": [
    {
     "data": {
      "text/plain": [
       "array([[<AxesSubplot:title={'center':'loading'}>,\n",
       "        <AxesSubplot:title={'center':'attribute_2'}>,\n",
       "        <AxesSubplot:title={'center':'attribute_3'}>,\n",
       "        <AxesSubplot:title={'center':'measurement_0'}>,\n",
       "        <AxesSubplot:title={'center':'measurement_1'}>],\n",
       "       [<AxesSubplot:title={'center':'measurement_2'}>,\n",
       "        <AxesSubplot:title={'center':'measurement_3'}>,\n",
       "        <AxesSubplot:title={'center':'measurement_4'}>,\n",
       "        <AxesSubplot:title={'center':'measurement_5'}>,\n",
       "        <AxesSubplot:title={'center':'measurement_6'}>],\n",
       "       [<AxesSubplot:title={'center':'measurement_7'}>,\n",
       "        <AxesSubplot:title={'center':'measurement_8'}>,\n",
       "        <AxesSubplot:title={'center':'measurement_9'}>,\n",
       "        <AxesSubplot:title={'center':'measurement_10'}>,\n",
       "        <AxesSubplot:title={'center':'measurement_11'}>],\n",
       "       [<AxesSubplot:title={'center':'measurement_12'}>,\n",
       "        <AxesSubplot:title={'center':'measurement_13'}>,\n",
       "        <AxesSubplot:title={'center':'measurement_14'}>,\n",
       "        <AxesSubplot:title={'center':'measurement_15'}>,\n",
       "        <AxesSubplot:title={'center':'measurement_16'}>],\n",
       "       [<AxesSubplot:title={'center':'measurement_17'}>, <AxesSubplot:>,\n",
       "        <AxesSubplot:>, <AxesSubplot:>, <AxesSubplot:>]], dtype=object)"
      ]
     },
     "execution_count": 8,
     "metadata": {},
     "output_type": "execute_result"
    },
    {
     "data": {
      "image/png": "[encoded data removed]",
      "text/plain": [
       "<Figure size 1728x1584 with 25 Axes>"
      ]
     },
     "metadata": {
      "needs_background": "light"
     },
     "output_type": "display_data"
    }
   ],
   "source": [
    "train.hist(bins='auto',figsize=(24, 22))"
   ]
  },
  {
   "cell_type": "code",
   "execution_count": 9,
   "id": "04ae4a26",
   "metadata": {
    "execution": {
     "iopub.execute_input": "2022-11-02T04:47:47.687153Z",
     "iopub.status.busy": "2022-11-02T04:47:47.686786Z",
     "iopub.status.idle": "2022-11-02T04:47:53.138592Z",
     "shell.execute_reply": "2022-11-02T04:47:53.137437Z"
    },
    "papermill": {
     "duration": 5.469163,
     "end_time": "2022-11-02T04:47:53.141163",
     "exception": false,
     "start_time": "2022-11-02T04:47:47.672000",
     "status": "completed"
    },
    "tags": []
   },
   "outputs": [
    {
     "data": {
      "text/plain": [
       "array([[<AxesSubplot:title={'center':'loading'}>,\n",
       "        <AxesSubplot:title={'center':'attribute_2'}>,\n",
       "        <AxesSubplot:title={'center':'attribute_3'}>,\n",
       "        <AxesSubplot:title={'center':'measurement_0'}>,\n",
       "        <AxesSubplot:title={'center':'measurement_1'}>],\n",
       "       [<AxesSubplot:title={'center':'measurement_2'}>,\n",
       "        <AxesSubplot:title={'center':'measurement_3'}>,\n",
       "        <AxesSubplot:title={'center':'measurement_4'}>,\n",
       "        <AxesSubplot:title={'center':'measurement_5'}>,\n",
       "        <AxesSubplot:title={'center':'measurement_6'}>],\n",
       "       [<AxesSubplot:title={'center':'measurement_7'}>,\n",
       "        <AxesSubplot:title={'center':'measurement_8'}>,\n",
       "        <AxesSubplot:title={'center':'measurement_9'}>,\n",
       "        <AxesSubplot:title={'center':'measurement_10'}>,\n",
       "        <AxesSubplot:title={'center':'measurement_11'}>],\n",
       "       [<AxesSubplot:title={'center':'measurement_12'}>,\n",
       "        <AxesSubplot:title={'center':'measurement_13'}>,\n",
       "        <AxesSubplot:title={'center':'measurement_14'}>,\n",
       "        <AxesSubplot:title={'center':'measurement_15'}>,\n",
       "        <AxesSubplot:title={'center':'measurement_16'}>],\n",
       "       [<AxesSubplot:title={'center':'measurement_17'}>, <AxesSubplot:>,\n",
       "        <AxesSubplot:>, <AxesSubplot:>, <AxesSubplot:>]], dtype=object)"
      ]
     },
     "execution_count": 9,
     "metadata": {},
     "output_type": "execute_result"
    },
    {
     "data": {
      "image/png": "[encoded data removed]",
      "text/plain": [
       "<Figure size 1728x1584 with 25 Axes>"
      ]
     },
     "metadata": {
      "needs_background": "light"
     },
     "output_type": "display_data"
    }
   ],
   "source": [
    "test.hist(bins='auto',figsize=(24, 22))"
   ]
  },
  {
   "cell_type": "markdown",
   "id": "25e74227",
   "metadata": {
    "papermill": {
     "duration": 0.015592,
     "end_time": "2022-11-02T04:47:53.172290",
     "exception": false,
     "start_time": "2022-11-02T04:47:53.156698",
     "status": "completed"
    },
    "tags": []
   },
   "source": [
    "## 1.2) Data cleaning/normalizing/imputing"
   ]
  },
  {
   "cell_type": "code",
   "execution_count": 10,
   "id": "39e2ffd5",
   "metadata": {
    "execution": {
     "iopub.execute_input": "2022-11-02T04:47:53.204303Z",
     "iopub.status.busy": "2022-11-02T04:47:53.203903Z",
     "iopub.status.idle": "2022-11-02T04:47:53.684228Z",
     "shell.execute_reply": "2022-11-02T04:47:53.682318Z"
    },
    "papermill": {
     "duration": 0.499165,
     "end_time": "2022-11-02T04:47:53.686648",
     "exception": false,
     "start_time": "2022-11-02T04:47:53.187483",
     "status": "completed"
    },
    "tags": []
   },
   "outputs": [
    {
     "name": "stderr",
     "output_type": "stream",
     "text": [
      "/opt/conda/lib/python3.7/site-packages/category_encoders/target_encoder.py:124: FutureWarning: Default parameter min_samples_leaf will change in version 2.6.See https://github.com/scikit-learn-contrib/category_encoders/issues/327\n",
      "  category=FutureWarning)\n",
      "/opt/conda/lib/python3.7/site-packages/category_encoders/target_encoder.py:129: FutureWarning: Default parameter smoothing will change in version 2.6.See https://github.com/scikit-learn-contrib/category_encoders/issues/327\n",
      "  category=FutureWarning)\n"
     ]
    },
    {
     "data": {
      "text/plain": [
       "TargetEncoder(cols=Empty DataFrame\n",
       "Columns: []\n",
       "Index: [0, 1, 2, 3, 4, 5, 6, 7, 8, 9, 10, 11, 12, 13, 14, 15, 16, 17, 18, 19, 20, 21, 22, 23, 24, 25, 26, 27, 28, 29, 30, 31, 32, 33, 34, 35, 36, 37, 38, 39, 40, 41, 42, 43, 44, 45, 46, 47, 48, 49, 50, 51, 52, 53, 54, 55, 56, 57, 58, 59, 60, 61, 62, 63, 64, 65, 66, 67, 68, 69, 70, 71, 72, 73, 74, 75, 76, 77, 78, 79, 80, 81, 82, 83, 84, 85, 86, 87, 88, 89, 90, 91, 92, 93, 94, 95, 96, 97, 98, 99, ...]\n",
       "\n",
       "[26570 rows x 0 columns],\n",
       "              handle_missing='return_nan')"
      ]
     },
     "execution_count": 10,
     "metadata": {},
     "output_type": "execute_result"
    }
   ],
   "source": [
    "from sklearn.impute import KNNImputer, SimpleImputer\n",
    "from category_encoders.target_encoder import TargetEncoder\n",
    "from category_encoders.quantile_encoder import SummaryEncoder\n",
    "from category_encoders.ordinal import OrdinalEncoder\n",
    "te = TargetEncoder(cols = cate_cols,handle_missing = 'return_nan')\n",
    "te.fit(train,train_label)\n",
    "\n"
   ]
  },
  {
   "cell_type": "code",
   "execution_count": 11,
   "id": "cdf3ad52",
   "metadata": {
    "execution": {
     "iopub.execute_input": "2022-11-02T04:47:53.719293Z",
     "iopub.status.busy": "2022-11-02T04:47:53.718741Z",
     "iopub.status.idle": "2022-11-02T04:47:53.729590Z",
     "shell.execute_reply": "2022-11-02T04:47:53.728596Z"
    },
    "papermill": {
     "duration": 0.029719,
     "end_time": "2022-11-02T04:47:53.731842",
     "exception": false,
     "start_time": "2022-11-02T04:47:53.702123",
     "status": "completed"
    },
    "tags": []
   },
   "outputs": [],
   "source": [
    "train=te.transform(train)\n",
    "test=te.transform(test)\n",
    "\n",
    "continues_table_train = train.loc[:,~train.columns.isin(cate_cols)]\n",
    "cate_table_train = train.loc[:,train.columns.isin(cate_cols)]\n",
    "continues_table_test = test.loc[:,~test.columns.isin(cate_cols)]\n",
    "cate_table_test = test.loc[:,test.columns.isin(cate_cols)]"
   ]
  },
  {
   "cell_type": "code",
   "execution_count": 12,
   "id": "f65d2b4c",
   "metadata": {
    "execution": {
     "iopub.execute_input": "2022-11-02T04:47:53.763076Z",
     "iopub.status.busy": "2022-11-02T04:47:53.762749Z",
     "iopub.status.idle": "2022-11-02T04:48:32.604303Z",
     "shell.execute_reply": "2022-11-02T04:48:32.602922Z"
    },
    "papermill": {
     "duration": 38.85987,
     "end_time": "2022-11-02T04:48:32.606674",
     "exception": false,
     "start_time": "2022-11-02T04:47:53.746804",
     "status": "completed"
    },
    "tags": []
   },
   "outputs": [],
   "source": [
    "# s_imputer = SimpleImputer(strategy = 'most_frequent')\n",
    "knn_imputer = KNNImputer()\n",
    "\n",
    "continues_table_train = knn_imputer.fit_transform(continues_table_train)\n",
    "continues_table_test = knn_imputer.transform(continues_table_test)\n",
    "\n",
    "# cate_table_train = s_imputer.fit_transform(cate_table_train)\n",
    "# cate_table_test = s_imputer.transform(cate_table_test)"
   ]
  },
  {
   "cell_type": "markdown",
   "id": "94c8912b",
   "metadata": {
    "papermill": {
     "duration": 0.014868,
     "end_time": "2022-11-02T04:48:32.636710",
     "exception": false,
     "start_time": "2022-11-02T04:48:32.621842",
     "status": "completed"
    },
    "tags": []
   },
   "source": [
    "## 1.3) Adversarial Validation"
   ]
  },
  {
   "cell_type": "code",
   "execution_count": 13,
   "id": "2829f16d",
   "metadata": {
    "execution": {
     "iopub.execute_input": "2022-11-02T04:48:32.669278Z",
     "iopub.status.busy": "2022-11-02T04:48:32.668925Z",
     "iopub.status.idle": "2022-11-02T04:48:32.674662Z",
     "shell.execute_reply": "2022-11-02T04:48:32.673598Z"
    },
    "papermill": {
     "duration": 0.024397,
     "end_time": "2022-11-02T04:48:32.677012",
     "exception": false,
     "start_time": "2022-11-02T04:48:32.652615",
     "status": "completed"
    },
    "tags": []
   },
   "outputs": [],
   "source": [
    "train_cleaned = np.concatenate([continues_table_train,cate_table_train],axis = 1)\n",
    "test_cleaned = np.concatenate([continues_table_test,cate_table_test],axis = 1)"
   ]
  },
  {
   "cell_type": "code",
   "execution_count": 14,
   "id": "5d680dc6",
   "metadata": {
    "execution": {
     "iopub.execute_input": "2022-11-02T04:48:32.709428Z",
     "iopub.status.busy": "2022-11-02T04:48:32.708881Z",
     "iopub.status.idle": "2022-11-02T04:48:54.073837Z",
     "shell.execute_reply": "2022-11-02T04:48:54.072819Z"
    },
    "papermill": {
     "duration": 21.383731,
     "end_time": "2022-11-02T04:48:54.076114",
     "exception": false,
     "start_time": "2022-11-02T04:48:32.692383",
     "status": "completed"
    },
    "tags": []
   },
   "outputs": [],
   "source": [
    "import numpy as np \n",
    "import pandas as pd\n",
    "from sklearn.ensemble import RandomForestClassifier\n",
    "from sklearn.model_selection import cross_val_predict\n",
    "from sklearn.metrics import roc_auc_score\n",
    "X = np.concatenate([train_cleaned,test_cleaned],axis = 0)\n",
    "y = [0]*len(train_cleaned)+[1]*len(test_cleaned)\n",
    "\n",
    "model = RandomForestClassifier(n_estimators=100)\n",
    "cv_preds = cross_val_predict(model, X, y, cv=5, n_jobs=-1, method='predict_proba')"
   ]
  },
  {
   "cell_type": "code",
   "execution_count": 15,
   "id": "6dd265a8",
   "metadata": {
    "execution": {
     "iopub.execute_input": "2022-11-02T04:48:54.109019Z",
     "iopub.status.busy": "2022-11-02T04:48:54.108164Z",
     "iopub.status.idle": "2022-11-02T04:48:54.116564Z",
     "shell.execute_reply": "2022-11-02T04:48:54.114955Z"
    },
    "papermill": {
     "duration": 0.02778,
     "end_time": "2022-11-02T04:48:54.118902",
     "exception": false,
     "start_time": "2022-11-02T04:48:54.091122",
     "status": "completed"
    },
    "tags": []
   },
   "outputs": [
    {
     "data": {
      "text/plain": [
       "array([[ 80.1  ,   9.   ,   5.   , ...,  13.034,  14.684, 764.1  ],\n",
       "       [ 84.89 ,   9.   ,   5.   , ...,  14.395,  15.631, 682.057],\n",
       "       [ 82.43 ,   9.   ,   5.   , ...,  14.094,  17.946, 663.376],\n",
       "       ...,\n",
       "       [ 67.73 ,   9.   ,   5.   , ...,  14.175,  17.728, 783.349],\n",
       "       [126.15 ,   9.   ,   5.   , ...,  16.437,  15.179, 745.21 ],\n",
       "       [ 85.97 ,   9.   ,   5.   , ...,  16.261,  16.482, 647.98 ]])"
      ]
     },
     "execution_count": 15,
     "metadata": {},
     "output_type": "execute_result"
    }
   ],
   "source": [
    "X"
   ]
  },
  {
   "cell_type": "code",
   "execution_count": 16,
   "id": "dbf874f9",
   "metadata": {
    "execution": {
     "iopub.execute_input": "2022-11-02T04:48:54.151274Z",
     "iopub.status.busy": "2022-11-02T04:48:54.150895Z",
     "iopub.status.idle": "2022-11-02T04:48:54.175632Z",
     "shell.execute_reply": "2022-11-02T04:48:54.174742Z"
    },
    "papermill": {
     "duration": 0.043533,
     "end_time": "2022-11-02T04:48:54.177744",
     "exception": false,
     "start_time": "2022-11-02T04:48:54.134211",
     "status": "completed"
    },
    "tags": []
   },
   "outputs": [
    {
     "name": "stdout",
     "output_type": "stream",
     "text": [
      "0.7526179005392744\n"
     ]
    },
    {
     "data": {
      "text/plain": [
       "array([[0.  , 1.  ],\n",
       "       [0.02, 0.98],\n",
       "       [0.03, 0.97],\n",
       "       ...,\n",
       "       [0.55, 0.45],\n",
       "       [0.39, 0.61],\n",
       "       [0.16, 0.84]])"
      ]
     },
     "execution_count": 16,
     "metadata": {},
     "output_type": "execute_result"
    }
   ],
   "source": [
    "print(roc_auc_score(y_true=y, y_score=cv_preds[:,1]))\n",
    "cv_preds"
   ]
  },
  {
   "cell_type": "code",
   "execution_count": 17,
   "id": "3bab65eb",
   "metadata": {
    "execution": {
     "iopub.execute_input": "2022-11-02T04:48:54.210922Z",
     "iopub.status.busy": "2022-11-02T04:48:54.210565Z",
     "iopub.status.idle": "2022-11-02T04:48:54.217827Z",
     "shell.execute_reply": "2022-11-02T04:48:54.216905Z"
    },
    "papermill": {
     "duration": 0.026651,
     "end_time": "2022-11-02T04:48:54.220235",
     "exception": false,
     "start_time": "2022-11-02T04:48:54.193584",
     "status": "completed"
    },
    "tags": []
   },
   "outputs": [
    {
     "data": {
      "text/plain": [
       "['loading',\n",
       " 'attribute_2',\n",
       " 'attribute_3',\n",
       " 'measurement_0',\n",
       " 'measurement_1',\n",
       " 'measurement_2',\n",
       " 'measurement_3',\n",
       " 'measurement_4',\n",
       " 'measurement_5',\n",
       " 'measurement_6',\n",
       " 'measurement_7',\n",
       " 'measurement_8',\n",
       " 'measurement_9',\n",
       " 'measurement_10',\n",
       " 'measurement_11',\n",
       " 'measurement_12',\n",
       " 'measurement_13',\n",
       " 'measurement_14',\n",
       " 'measurement_15',\n",
       " 'measurement_16',\n",
       " 'measurement_17']"
      ]
     },
     "execution_count": 17,
     "metadata": {},
     "output_type": "execute_result"
    }
   ],
   "source": [
    "col_reorder = list(train.columns[~train.columns.isin(cate_cols)].values)+list(train.columns[train.columns.isin(cate_cols)].values)\n",
    "col_reorder"
   ]
  },
  {
   "cell_type": "code",
   "execution_count": 18,
   "id": "4bf80c8b",
   "metadata": {
    "execution": {
     "iopub.execute_input": "2022-11-02T04:48:54.252663Z",
     "iopub.status.busy": "2022-11-02T04:48:54.252311Z",
     "iopub.status.idle": "2022-11-02T04:49:07.073585Z",
     "shell.execute_reply": "2022-11-02T04:49:07.072898Z"
    },
    "papermill": {
     "duration": 12.839837,
     "end_time": "2022-11-02T04:49:07.075682",
     "exception": false,
     "start_time": "2022-11-02T04:48:54.235845",
     "status": "completed"
    },
    "tags": []
   },
   "outputs": [
    {
     "name": "stdout",
     "output_type": "stream",
     "text": [
      "attribute_3 : 0.3874\n",
      "attribute_2 : 0.3047\n",
      "measurement_1 : 0.0546\n",
      "measurement_0 : 0.0320\n",
      "measurement_15 : 0.0249\n",
      "measurement_11 : 0.0243\n",
      "measurement_13 : 0.0194\n",
      "measurement_12 : 0.0185\n",
      "measurement_16 : 0.0171\n",
      "measurement_14 : 0.0171\n",
      "measurement_2 : 0.0168\n",
      "measurement_10 : 0.0151\n",
      "measurement_17 : 0.0085\n",
      "measurement_5 : 0.0076\n",
      "measurement_4 : 0.0076\n",
      "measurement_3 : 0.0075\n",
      "loading    : 0.0075\n",
      "measurement_9 : 0.0074\n",
      "measurement_6 : 0.0074\n",
      "measurement_7 : 0.0074\n",
      "measurement_8 : 0.0074\n"
     ]
    }
   ],
   "source": [
    "model.fit(X,y)\n",
    "ranks = sorted(list(zip(col_reorder, model.feature_importances_)),key=lambda x: x[1], reverse=True)\n",
    "for feature, score in ranks:\n",
    "    print(f\"{feature:10} : {score:0.4f}\")"
   ]
  },
  {
   "cell_type": "markdown",
   "id": "55f6fe46",
   "metadata": {
    "papermill": {
     "duration": 0.015627,
     "end_time": "2022-11-02T04:49:07.107220",
     "exception": false,
     "start_time": "2022-11-02T04:49:07.091593",
     "status": "completed"
    },
    "tags": []
   },
   "source": [
    "## 1.4) Cluster Analaysis"
   ]
  },
  {
   "cell_type": "markdown",
   "id": "9afad084",
   "metadata": {
    "papermill": {
     "duration": 0.015166,
     "end_time": "2022-11-02T04:49:07.138251",
     "exception": false,
     "start_time": "2022-11-02T04:49:07.123085",
     "status": "completed"
    },
    "tags": []
   },
   "source": [
    "### 1.4.1) Kmean"
   ]
  },
  {
   "cell_type": "code",
   "execution_count": 19,
   "id": "266ba564",
   "metadata": {
    "execution": {
     "iopub.execute_input": "2022-11-02T04:49:07.171274Z",
     "iopub.status.busy": "2022-11-02T04:49:07.170731Z",
     "iopub.status.idle": "2022-11-02T04:52:05.250325Z",
     "shell.execute_reply": "2022-11-02T04:52:05.248886Z"
    },
    "papermill": {
     "duration": 178.114059,
     "end_time": "2022-11-02T04:52:05.267857",
     "exception": false,
     "start_time": "2022-11-02T04:49:07.153798",
     "status": "completed"
    },
    "tags": []
   },
   "outputs": [
    {
     "data": {
      "image/png": "[encoded data removed]",
      "text/plain": [
       "<Figure size 1080x720 with 3 Axes>"
      ]
     },
     "metadata": {
      "needs_background": "light"
     },
     "output_type": "display_data"
    }
   ],
   "source": [
    "#source: https://towardsdatascience.com/selecting-optimal-k-for-k-means-clustering-c7579fd2e926\n",
    "from sklearn.cluster import KMeans\n",
    "import sklearn.metrics as metrics\n",
    "X_segmentation = train_cleaned\n",
    "search_range = range(1, 21)\n",
    "report = {}\n",
    "for k in search_range:\n",
    "    temp_dict = {}\n",
    "    kmeans = KMeans(init='k-means++',\n",
    "                    algorithm='auto',\n",
    "                    n_clusters=k,\n",
    "                    max_iter=1000,\n",
    "                    random_state=1,\n",
    "                    verbose=0).fit(X_segmentation)\n",
    "    inertia = kmeans.inertia_\n",
    "    temp_dict['Sum of squared error'] = inertia\n",
    "    try:\n",
    "        cluster = kmeans.predict(X_segmentation)\n",
    "        chs = metrics.calinski_harabasz_score(X_segmentation, cluster)\n",
    "        ss = metrics.silhouette_score(X_segmentation, cluster)\n",
    "        temp_dict['Calinski Harabasz Score'] = chs\n",
    "        temp_dict['Silhouette Score'] = ss\n",
    "        report[k] = temp_dict\n",
    "    except:\n",
    "        report[k] = temp_dict\n",
    "\n",
    "report_df = pd.DataFrame(report).T\n",
    "report_df.plot(figsize=(15, 10),\n",
    "               xticks=search_range,\n",
    "               grid=True,\n",
    "               title=f'Selecting optimal \"K\"',\n",
    "               subplots=True,\n",
    "               marker='o',\n",
    "               sharex=True)\n",
    "plt.tight_layout()"
   ]
  },
  {
   "cell_type": "markdown",
   "id": "b527029c",
   "metadata": {
    "papermill": {
     "duration": 0.015658,
     "end_time": "2022-11-02T04:52:05.299502",
     "exception": false,
     "start_time": "2022-11-02T04:52:05.283844",
     "status": "completed"
    },
    "tags": []
   },
   "source": [
    "### 1.4.2) T-sne"
   ]
  },
  {
   "cell_type": "code",
   "execution_count": 20,
   "id": "4e1c1f45",
   "metadata": {
    "execution": {
     "iopub.execute_input": "2022-11-02T04:52:05.333460Z",
     "iopub.status.busy": "2022-11-02T04:52:05.332666Z",
     "iopub.status.idle": "2022-11-02T04:55:54.173758Z",
     "shell.execute_reply": "2022-11-02T04:55:54.173025Z"
    },
    "papermill": {
     "duration": 228.860556,
     "end_time": "2022-11-02T04:55:54.176026",
     "exception": false,
     "start_time": "2022-11-02T04:52:05.315470",
     "status": "completed"
    },
    "tags": []
   },
   "outputs": [
    {
     "name": "stderr",
     "output_type": "stream",
     "text": [
      "/opt/conda/lib/python3.7/site-packages/sklearn/manifold/_t_sne.py:793: FutureWarning: The default learning rate in TSNE will change from 200.0 to 'auto' in 1.2.\n",
      "  FutureWarning,\n",
      "/opt/conda/lib/python3.7/site-packages/sklearn/manifold/_t_sne.py:986: FutureWarning: The PCA initialization in TSNE will change to have the standard deviation of PC1 equal to 1e-4 in 1.2. This will ensure better convergence.\n",
      "  FutureWarning,\n"
     ]
    }
   ],
   "source": [
    "from sklearn.manifold import TSNE\n",
    "from sklearn.preprocessing import StandardScaler\n",
    "my_tsne = TSNE(init='pca',perplexity=50)\n",
    "colors = ['blue' if i==1 else 'red' for i in train_label]\n",
    "#std_scaler = StandardScaler()\n",
    "#train_cleaned_scaled = std_scaler.fit_transform(train_cleaned)\n",
    "embeded = my_tsne.fit_transform(train_cleaned)"
   ]
  },
  {
   "cell_type": "code",
   "execution_count": 21,
   "id": "2bd2b32c",
   "metadata": {
    "execution": {
     "iopub.execute_input": "2022-11-02T04:55:54.209869Z",
     "iopub.status.busy": "2022-11-02T04:55:54.209545Z",
     "iopub.status.idle": "2022-11-02T04:55:55.074342Z",
     "shell.execute_reply": "2022-11-02T04:55:55.073574Z"
    },
    "papermill": {
     "duration": 0.883883,
     "end_time": "2022-11-02T04:55:55.076507",
     "exception": false,
     "start_time": "2022-11-02T04:55:54.192624",
     "status": "completed"
    },
    "tags": []
   },
   "outputs": [
    {
     "data": {
      "text/plain": [
       "<matplotlib.collections.PathCollection at 0x7fb71a63fc50>"
      ]
     },
     "execution_count": 21,
     "metadata": {},
     "output_type": "execute_result"
    },
    {
     "data": {
      "image/png": "[encoded data removed]",
      "text/plain": [
       "<Figure size 432x288 with 1 Axes>"
      ]
     },
     "metadata": {
      "needs_background": "light"
     },
     "output_type": "display_data"
    }
   ],
   "source": [
    "plt.scatter(embeded[:,0],embeded[:,1],c=colors)"
   ]
  },
  {
   "cell_type": "markdown",
   "id": "a7eed404",
   "metadata": {
    "papermill": {
     "duration": 0.01646,
     "end_time": "2022-11-02T04:55:55.110198",
     "exception": false,
     "start_time": "2022-11-02T04:55:55.093738",
     "status": "completed"
    },
    "tags": []
   },
   "source": [
    "## 1.5) Data Engineer"
   ]
  },
  {
   "cell_type": "code",
   "execution_count": 22,
   "id": "b5568f96",
   "metadata": {
    "execution": {
     "iopub.execute_input": "2022-11-02T04:55:55.145194Z",
     "iopub.status.busy": "2022-11-02T04:55:55.144888Z",
     "iopub.status.idle": "2022-11-02T04:55:55.149927Z",
     "shell.execute_reply": "2022-11-02T04:55:55.149279Z"
    },
    "papermill": {
     "duration": 0.024714,
     "end_time": "2022-11-02T04:55:55.151797",
     "exception": false,
     "start_time": "2022-11-02T04:55:55.127083",
     "status": "completed"
    },
    "tags": []
   },
   "outputs": [],
   "source": [
    "train_cleaned_df = pd.DataFrame(train_cleaned,columns = col_reorder)\n",
    "test_cleaned_df = pd.DataFrame(test_cleaned,columns = col_reorder)"
   ]
  },
  {
   "cell_type": "code",
   "execution_count": 23,
   "id": "229ae4a1",
   "metadata": {
    "execution": {
     "iopub.execute_input": "2022-11-02T04:55:55.187775Z",
     "iopub.status.busy": "2022-11-02T04:55:55.186857Z",
     "iopub.status.idle": "2022-11-02T04:55:55.225998Z",
     "shell.execute_reply": "2022-11-02T04:55:55.224592Z"
    },
    "papermill": {
     "duration": 0.05974,
     "end_time": "2022-11-02T04:55:55.228574",
     "exception": false,
     "start_time": "2022-11-02T04:55:55.168834",
     "status": "completed"
    },
    "tags": []
   },
   "outputs": [
    {
     "data": {
      "text/html": [
       "<div>\n",
       "<style scoped>\n",
       "    .dataframe tbody tr th:only-of-type {\n",
       "        vertical-align: middle;\n",
       "    }\n",
       "\n",
       "    .dataframe tbody tr th {\n",
       "        vertical-align: top;\n",
       "    }\n",
       "\n",
       "    .dataframe thead th {\n",
       "        text-align: right;\n",
       "    }\n",
       "</style>\n",
       "<table border=\"1\" class=\"dataframe\">\n",
       "  <thead>\n",
       "    <tr style=\"text-align: right;\">\n",
       "      <th></th>\n",
       "      <th>loading</th>\n",
       "      <th>attribute_2</th>\n",
       "      <th>attribute_3</th>\n",
       "      <th>measurement_0</th>\n",
       "      <th>measurement_1</th>\n",
       "      <th>measurement_2</th>\n",
       "      <th>measurement_3</th>\n",
       "      <th>measurement_4</th>\n",
       "      <th>measurement_5</th>\n",
       "      <th>measurement_6</th>\n",
       "      <th>...</th>\n",
       "      <th>measurement_8</th>\n",
       "      <th>measurement_9</th>\n",
       "      <th>measurement_10</th>\n",
       "      <th>measurement_11</th>\n",
       "      <th>measurement_12</th>\n",
       "      <th>measurement_13</th>\n",
       "      <th>measurement_14</th>\n",
       "      <th>measurement_15</th>\n",
       "      <th>measurement_16</th>\n",
       "      <th>measurement_17</th>\n",
       "    </tr>\n",
       "  </thead>\n",
       "  <tbody>\n",
       "    <tr>\n",
       "      <th>0</th>\n",
       "      <td>80.10</td>\n",
       "      <td>9</td>\n",
       "      <td>5</td>\n",
       "      <td>7</td>\n",
       "      <td>8</td>\n",
       "      <td>4</td>\n",
       "      <td>18.040</td>\n",
       "      <td>12.5180</td>\n",
       "      <td>15.748</td>\n",
       "      <td>19.292</td>\n",
       "      <td>...</td>\n",
       "      <td>20.155</td>\n",
       "      <td>10.6720</td>\n",
       "      <td>15.859</td>\n",
       "      <td>17.5940</td>\n",
       "      <td>15.193</td>\n",
       "      <td>15.029</td>\n",
       "      <td>14.5984</td>\n",
       "      <td>13.034</td>\n",
       "      <td>14.6840</td>\n",
       "      <td>764.100</td>\n",
       "    </tr>\n",
       "    <tr>\n",
       "      <th>1</th>\n",
       "      <td>84.89</td>\n",
       "      <td>9</td>\n",
       "      <td>5</td>\n",
       "      <td>14</td>\n",
       "      <td>3</td>\n",
       "      <td>3</td>\n",
       "      <td>18.213</td>\n",
       "      <td>11.5400</td>\n",
       "      <td>17.717</td>\n",
       "      <td>17.893</td>\n",
       "      <td>...</td>\n",
       "      <td>17.889</td>\n",
       "      <td>12.4480</td>\n",
       "      <td>17.947</td>\n",
       "      <td>17.9150</td>\n",
       "      <td>11.755</td>\n",
       "      <td>14.732</td>\n",
       "      <td>15.4250</td>\n",
       "      <td>14.395</td>\n",
       "      <td>15.6310</td>\n",
       "      <td>682.057</td>\n",
       "    </tr>\n",
       "    <tr>\n",
       "      <th>2</th>\n",
       "      <td>82.43</td>\n",
       "      <td>9</td>\n",
       "      <td>5</td>\n",
       "      <td>12</td>\n",
       "      <td>1</td>\n",
       "      <td>5</td>\n",
       "      <td>18.057</td>\n",
       "      <td>11.6520</td>\n",
       "      <td>16.738</td>\n",
       "      <td>18.240</td>\n",
       "      <td>...</td>\n",
       "      <td>18.288</td>\n",
       "      <td>12.7150</td>\n",
       "      <td>15.607</td>\n",
       "      <td>19.1346</td>\n",
       "      <td>13.798</td>\n",
       "      <td>16.711</td>\n",
       "      <td>18.6310</td>\n",
       "      <td>14.094</td>\n",
       "      <td>17.9460</td>\n",
       "      <td>663.376</td>\n",
       "    </tr>\n",
       "    <tr>\n",
       "      <th>3</th>\n",
       "      <td>101.07</td>\n",
       "      <td>9</td>\n",
       "      <td>5</td>\n",
       "      <td>13</td>\n",
       "      <td>2</td>\n",
       "      <td>6</td>\n",
       "      <td>17.295</td>\n",
       "      <td>11.1880</td>\n",
       "      <td>18.576</td>\n",
       "      <td>18.339</td>\n",
       "      <td>...</td>\n",
       "      <td>19.060</td>\n",
       "      <td>12.4710</td>\n",
       "      <td>16.346</td>\n",
       "      <td>18.3770</td>\n",
       "      <td>10.020</td>\n",
       "      <td>15.250</td>\n",
       "      <td>15.5620</td>\n",
       "      <td>16.154</td>\n",
       "      <td>17.1720</td>\n",
       "      <td>826.282</td>\n",
       "    </tr>\n",
       "    <tr>\n",
       "      <th>4</th>\n",
       "      <td>188.06</td>\n",
       "      <td>9</td>\n",
       "      <td>5</td>\n",
       "      <td>9</td>\n",
       "      <td>2</td>\n",
       "      <td>8</td>\n",
       "      <td>19.346</td>\n",
       "      <td>12.9500</td>\n",
       "      <td>16.990</td>\n",
       "      <td>15.746</td>\n",
       "      <td>...</td>\n",
       "      <td>18.093</td>\n",
       "      <td>10.3370</td>\n",
       "      <td>17.082</td>\n",
       "      <td>19.9320</td>\n",
       "      <td>12.428</td>\n",
       "      <td>16.182</td>\n",
       "      <td>12.7600</td>\n",
       "      <td>13.153</td>\n",
       "      <td>16.4120</td>\n",
       "      <td>579.885</td>\n",
       "    </tr>\n",
       "    <tr>\n",
       "      <th>...</th>\n",
       "      <td>...</td>\n",
       "      <td>...</td>\n",
       "      <td>...</td>\n",
       "      <td>...</td>\n",
       "      <td>...</td>\n",
       "      <td>...</td>\n",
       "      <td>...</td>\n",
       "      <td>...</td>\n",
       "      <td>...</td>\n",
       "      <td>...</td>\n",
       "      <td>...</td>\n",
       "      <td>...</td>\n",
       "      <td>...</td>\n",
       "      <td>...</td>\n",
       "      <td>...</td>\n",
       "      <td>...</td>\n",
       "      <td>...</td>\n",
       "      <td>...</td>\n",
       "      <td>...</td>\n",
       "      <td>...</td>\n",
       "      <td>...</td>\n",
       "    </tr>\n",
       "    <tr>\n",
       "      <th>26565</th>\n",
       "      <td>158.95</td>\n",
       "      <td>6</td>\n",
       "      <td>9</td>\n",
       "      <td>6</td>\n",
       "      <td>16</td>\n",
       "      <td>4</td>\n",
       "      <td>16.301</td>\n",
       "      <td>13.2590</td>\n",
       "      <td>18.068</td>\n",
       "      <td>15.505</td>\n",
       "      <td>...</td>\n",
       "      <td>19.354</td>\n",
       "      <td>11.6642</td>\n",
       "      <td>12.177</td>\n",
       "      <td>17.9420</td>\n",
       "      <td>10.112</td>\n",
       "      <td>15.795</td>\n",
       "      <td>18.5720</td>\n",
       "      <td>16.144</td>\n",
       "      <td>15.2864</td>\n",
       "      <td>729.131</td>\n",
       "    </tr>\n",
       "    <tr>\n",
       "      <th>26566</th>\n",
       "      <td>146.02</td>\n",
       "      <td>6</td>\n",
       "      <td>9</td>\n",
       "      <td>10</td>\n",
       "      <td>12</td>\n",
       "      <td>8</td>\n",
       "      <td>17.543</td>\n",
       "      <td>11.2736</td>\n",
       "      <td>17.984</td>\n",
       "      <td>19.078</td>\n",
       "      <td>...</td>\n",
       "      <td>19.563</td>\n",
       "      <td>11.2420</td>\n",
       "      <td>14.179</td>\n",
       "      <td>20.5640</td>\n",
       "      <td>10.234</td>\n",
       "      <td>14.450</td>\n",
       "      <td>14.3220</td>\n",
       "      <td>13.146</td>\n",
       "      <td>16.4710</td>\n",
       "      <td>853.924</td>\n",
       "    </tr>\n",
       "    <tr>\n",
       "      <th>26567</th>\n",
       "      <td>115.62</td>\n",
       "      <td>6</td>\n",
       "      <td>9</td>\n",
       "      <td>1</td>\n",
       "      <td>10</td>\n",
       "      <td>1</td>\n",
       "      <td>15.670</td>\n",
       "      <td>11.5350</td>\n",
       "      <td>16.778</td>\n",
       "      <td>18.385</td>\n",
       "      <td>...</td>\n",
       "      <td>19.279</td>\n",
       "      <td>11.4070</td>\n",
       "      <td>16.437</td>\n",
       "      <td>17.4760</td>\n",
       "      <td>8.668</td>\n",
       "      <td>15.069</td>\n",
       "      <td>16.5990</td>\n",
       "      <td>15.590</td>\n",
       "      <td>14.0650</td>\n",
       "      <td>750.364</td>\n",
       "    </tr>\n",
       "    <tr>\n",
       "      <th>26568</th>\n",
       "      <td>106.38</td>\n",
       "      <td>6</td>\n",
       "      <td>9</td>\n",
       "      <td>2</td>\n",
       "      <td>9</td>\n",
       "      <td>4</td>\n",
       "      <td>18.059</td>\n",
       "      <td>11.6978</td>\n",
       "      <td>16.918</td>\n",
       "      <td>18.101</td>\n",
       "      <td>...</td>\n",
       "      <td>19.358</td>\n",
       "      <td>11.3920</td>\n",
       "      <td>17.064</td>\n",
       "      <td>17.8140</td>\n",
       "      <td>14.928</td>\n",
       "      <td>16.273</td>\n",
       "      <td>15.4850</td>\n",
       "      <td>13.624</td>\n",
       "      <td>12.8650</td>\n",
       "      <td>730.156</td>\n",
       "    </tr>\n",
       "    <tr>\n",
       "      <th>26569</th>\n",
       "      <td>131.20</td>\n",
       "      <td>6</td>\n",
       "      <td>9</td>\n",
       "      <td>6</td>\n",
       "      <td>19</td>\n",
       "      <td>1</td>\n",
       "      <td>18.034</td>\n",
       "      <td>11.4310</td>\n",
       "      <td>16.918</td>\n",
       "      <td>17.129</td>\n",
       "      <td>...</td>\n",
       "      <td>18.731</td>\n",
       "      <td>10.6110</td>\n",
       "      <td>15.603</td>\n",
       "      <td>19.7030</td>\n",
       "      <td>11.006</td>\n",
       "      <td>15.875</td>\n",
       "      <td>13.3660</td>\n",
       "      <td>16.527</td>\n",
       "      <td>17.8900</td>\n",
       "      <td>602.354</td>\n",
       "    </tr>\n",
       "  </tbody>\n",
       "</table>\n",
       "<p>26570 rows × 21 columns</p>\n",
       "</div>"
      ],
      "text/plain": [
       "       loading  attribute_2  attribute_3  measurement_0  measurement_1  \\\n",
       "0        80.10            9            5              7              8   \n",
       "1        84.89            9            5             14              3   \n",
       "2        82.43            9            5             12              1   \n",
       "3       101.07            9            5             13              2   \n",
       "4       188.06            9            5              9              2   \n",
       "...        ...          ...          ...            ...            ...   \n",
       "26565   158.95            6            9              6             16   \n",
       "26566   146.02            6            9             10             12   \n",
       "26567   115.62            6            9              1             10   \n",
       "26568   106.38            6            9              2              9   \n",
       "26569   131.20            6            9              6             19   \n",
       "\n",
       "       measurement_2  measurement_3  measurement_4  measurement_5  \\\n",
       "0                  4         18.040        12.5180         15.748   \n",
       "1                  3         18.213        11.5400         17.717   \n",
       "2                  5         18.057        11.6520         16.738   \n",
       "3                  6         17.295        11.1880         18.576   \n",
       "4                  8         19.346        12.9500         16.990   \n",
       "...              ...            ...            ...            ...   \n",
       "26565              4         16.301        13.2590         18.068   \n",
       "26566              8         17.543        11.2736         17.984   \n",
       "26567              1         15.670        11.5350         16.778   \n",
       "26568              4         18.059        11.6978         16.918   \n",
       "26569              1         18.034        11.4310         16.918   \n",
       "\n",
       "       measurement_6  ...  measurement_8  measurement_9  measurement_10  \\\n",
       "0             19.292  ...         20.155        10.6720          15.859   \n",
       "1             17.893  ...         17.889        12.4480          17.947   \n",
       "2             18.240  ...         18.288        12.7150          15.607   \n",
       "3             18.339  ...         19.060        12.4710          16.346   \n",
       "4             15.746  ...         18.093        10.3370          17.082   \n",
       "...              ...  ...            ...            ...             ...   \n",
       "26565         15.505  ...         19.354        11.6642          12.177   \n",
       "26566         19.078  ...         19.563        11.2420          14.179   \n",
       "26567         18.385  ...         19.279        11.4070          16.437   \n",
       "26568         18.101  ...         19.358        11.3920          17.064   \n",
       "26569         17.129  ...         18.731        10.6110          15.603   \n",
       "\n",
       "       measurement_11  measurement_12  measurement_13  measurement_14  \\\n",
       "0             17.5940          15.193          15.029         14.5984   \n",
       "1             17.9150          11.755          14.732         15.4250   \n",
       "2             19.1346          13.798          16.711         18.6310   \n",
       "3             18.3770          10.020          15.250         15.5620   \n",
       "4             19.9320          12.428          16.182         12.7600   \n",
       "...               ...             ...             ...             ...   \n",
       "26565         17.9420          10.112          15.795         18.5720   \n",
       "26566         20.5640          10.234          14.450         14.3220   \n",
       "26567         17.4760           8.668          15.069         16.5990   \n",
       "26568         17.8140          14.928          16.273         15.4850   \n",
       "26569         19.7030          11.006          15.875         13.3660   \n",
       "\n",
       "       measurement_15  measurement_16  measurement_17  \n",
       "0              13.034         14.6840         764.100  \n",
       "1              14.395         15.6310         682.057  \n",
       "2              14.094         17.9460         663.376  \n",
       "3              16.154         17.1720         826.282  \n",
       "4              13.153         16.4120         579.885  \n",
       "...               ...             ...             ...  \n",
       "26565          16.144         15.2864         729.131  \n",
       "26566          13.146         16.4710         853.924  \n",
       "26567          15.590         14.0650         750.364  \n",
       "26568          13.624         12.8650         730.156  \n",
       "26569          16.527         17.8900         602.354  \n",
       "\n",
       "[26570 rows x 21 columns]"
      ]
     },
     "execution_count": 23,
     "metadata": {},
     "output_type": "execute_result"
    }
   ],
   "source": [
    "train_cleaned_df[['attribute_2','attribute_3','measurement_0','measurement_1','measurement_2']]=train_cleaned_df[['attribute_2','attribute_3','measurement_0','measurement_1','measurement_2']].astype('int64')\n",
    "train_cleaned_df"
   ]
  },
  {
   "cell_type": "code",
   "execution_count": 24,
   "id": "7294eea2",
   "metadata": {
    "execution": {
     "iopub.execute_input": "2022-11-02T04:55:55.265184Z",
     "iopub.status.busy": "2022-11-02T04:55:55.264807Z",
     "iopub.status.idle": "2022-11-02T04:55:55.271943Z",
     "shell.execute_reply": "2022-11-02T04:55:55.270591Z"
    },
    "papermill": {
     "duration": 0.027552,
     "end_time": "2022-11-02T04:55:55.273682",
     "exception": false,
     "start_time": "2022-11-02T04:55:55.246130",
     "status": "completed"
    },
    "tags": []
   },
   "outputs": [
    {
     "data": {
      "text/plain": [
       "['loading',\n",
       " 'measurement_3',\n",
       " 'measurement_4',\n",
       " 'measurement_5',\n",
       " 'measurement_6',\n",
       " 'measurement_7',\n",
       " 'measurement_8',\n",
       " 'measurement_9',\n",
       " 'measurement_10',\n",
       " 'measurement_11',\n",
       " 'measurement_12',\n",
       " 'measurement_13',\n",
       " 'measurement_14',\n",
       " 'measurement_15',\n",
       " 'measurement_16',\n",
       " 'measurement_17']"
      ]
     },
     "execution_count": 24,
     "metadata": {},
     "output_type": "execute_result"
    }
   ],
   "source": [
    "cate_cols_engineer = ['attribute_2','attribute_3','measurement_0','measurement_1','measurement_2']\n",
    "continues_cols_engineer = list(train_cleaned_df.columns[~train_cleaned_df.columns.isin(cate_cols_engineer)].values)\n",
    "continues_cols_engineer"
   ]
  },
  {
   "cell_type": "code",
   "execution_count": 25,
   "id": "a9730fd4",
   "metadata": {
    "execution": {
     "iopub.execute_input": "2022-11-02T04:55:55.310367Z",
     "iopub.status.busy": "2022-11-02T04:55:55.309633Z",
     "iopub.status.idle": "2022-11-02T04:55:56.848016Z",
     "shell.execute_reply": "2022-11-02T04:55:56.847291Z"
    },
    "papermill": {
     "duration": 1.558975,
     "end_time": "2022-11-02T04:55:56.850186",
     "exception": false,
     "start_time": "2022-11-02T04:55:55.291211",
     "status": "completed"
    },
    "tags": []
   },
   "outputs": [],
   "source": [
    "kmeans = KMeans(init='k-means++',\n",
    "                algorithm='auto',\n",
    "                n_clusters=3,\n",
    "                max_iter=1000,\n",
    "                random_state=1,\n",
    "                verbose=0).fit(train_cleaned_df)\n",
    "\n",
    "# kmeans.fit()"
   ]
  },
  {
   "cell_type": "code",
   "execution_count": 26,
   "id": "c8c5c754",
   "metadata": {
    "execution": {
     "iopub.execute_input": "2022-11-02T04:55:56.887719Z",
     "iopub.status.busy": "2022-11-02T04:55:56.886716Z",
     "iopub.status.idle": "2022-11-02T04:55:56.921555Z",
     "shell.execute_reply": "2022-11-02T04:55:56.920524Z"
    },
    "papermill": {
     "duration": 0.055891,
     "end_time": "2022-11-02T04:55:56.924085",
     "exception": false,
     "start_time": "2022-11-02T04:55:56.868194",
     "status": "completed"
    },
    "tags": []
   },
   "outputs": [],
   "source": [
    "train_cleaned_df['cluster'] = kmeans.predict(train_cleaned_df)\n",
    "test_cleaned_df['cluster']=kmeans.predict(test_cleaned_df)"
   ]
  },
  {
   "cell_type": "code",
   "execution_count": 27,
   "id": "b19105bb",
   "metadata": {
    "execution": {
     "iopub.execute_input": "2022-11-02T04:55:56.970251Z",
     "iopub.status.busy": "2022-11-02T04:55:56.969873Z",
     "iopub.status.idle": "2022-11-02T04:55:56.976670Z",
     "shell.execute_reply": "2022-11-02T04:55:56.975493Z"
    },
    "papermill": {
     "duration": 0.031904,
     "end_time": "2022-11-02T04:55:56.979045",
     "exception": false,
     "start_time": "2022-11-02T04:55:56.947141",
     "status": "completed"
    },
    "tags": []
   },
   "outputs": [],
   "source": [
    "train_grby = train_cleaned_df.groupby('cluster')"
   ]
  },
  {
   "cell_type": "code",
   "execution_count": 28,
   "id": "069c21e4",
   "metadata": {
    "execution": {
     "iopub.execute_input": "2022-11-02T04:55:57.016777Z",
     "iopub.status.busy": "2022-11-02T04:55:57.016417Z",
     "iopub.status.idle": "2022-11-02T04:55:57.024811Z",
     "shell.execute_reply": "2022-11-02T04:55:57.023629Z"
    },
    "papermill": {
     "duration": 0.029234,
     "end_time": "2022-11-02T04:55:57.026860",
     "exception": false,
     "start_time": "2022-11-02T04:55:56.997626",
     "status": "completed"
    },
    "tags": []
   },
   "outputs": [],
   "source": [
    "def meta_attributes_add(grby_obj,target_df,selected_cols):\n",
    "    ans = []\n",
    "    for i in grby_obj.groups.keys():\n",
    "        tmp_df = grby_obj.get_group(i).copy()\n",
    "        for cate,mode in selected_cols:\n",
    "            tmp_df['dummy']=0\n",
    "            if mode:\n",
    "                tmp_df.loc[:,cate+'_meta']=np.mean(tmp_df[cate])\n",
    "            else:\n",
    "                freq = (tmp_df.groupby(cate).agg('count')/len(tmp_df))['dummy']\n",
    "                tmp_df.loc[:,cate+'_meta']=tmp_df.loc[:,cate].map(freq)\n",
    "        tmp_df.drop('dummy',axis = 1,inplace = True)\n",
    "        ans.append(tmp_df)\n",
    "    ret_df = ans.pop()\n",
    "    ret_df = ret_df.append(ans).sort_index()\n",
    "    return ret_df\n",
    "            "
   ]
  },
  {
   "cell_type": "code",
   "execution_count": 29,
   "id": "d72cd36d",
   "metadata": {
    "execution": {
     "iopub.execute_input": "2022-11-02T04:55:57.068060Z",
     "iopub.status.busy": "2022-11-02T04:55:57.066822Z",
     "iopub.status.idle": "2022-11-02T04:55:57.074313Z",
     "shell.execute_reply": "2022-11-02T04:55:57.073657Z"
    },
    "papermill": {
     "duration": 0.028333,
     "end_time": "2022-11-02T04:55:57.076083",
     "exception": false,
     "start_time": "2022-11-02T04:55:57.047750",
     "status": "completed"
    },
    "tags": []
   },
   "outputs": [
    {
     "data": {
      "text/plain": [
       "[('attribute_2', 0),\n",
       " ('attribute_3', 0),\n",
       " ('measurement_0', 0),\n",
       " ('measurement_1', 0),\n",
       " ('measurement_2', 0),\n",
       " ('measurement_3', 1),\n",
       " ('measurement_4', 1),\n",
       " ('measurement_5', 1),\n",
       " ('measurement_6', 1)]"
      ]
     },
     "execution_count": 29,
     "metadata": {},
     "output_type": "execute_result"
    }
   ],
   "source": [
    "selected_continues=continues_cols_engineer[1:5]\n",
    "selected_cols = list(zip(cate_cols_engineer,[0]*len(cate_cols_engineer)))+\\\n",
    "                list(zip(selected_continues,[1]*len(selected_continues)))\n",
    "selected_cols"
   ]
  },
  {
   "cell_type": "code",
   "execution_count": 30,
   "id": "486ae2d4",
   "metadata": {
    "execution": {
     "iopub.execute_input": "2022-11-02T04:55:57.112999Z",
     "iopub.status.busy": "2022-11-02T04:55:57.112623Z",
     "iopub.status.idle": "2022-11-02T04:55:57.216898Z",
     "shell.execute_reply": "2022-11-02T04:55:57.215624Z"
    },
    "papermill": {
     "duration": 0.125596,
     "end_time": "2022-11-02T04:55:57.219327",
     "exception": false,
     "start_time": "2022-11-02T04:55:57.093731",
     "status": "completed"
    },
    "tags": []
   },
   "outputs": [],
   "source": [
    "final_train_data = meta_attributes_add(train_grby,train_cleaned_df,selected_cols)"
   ]
  },
  {
   "cell_type": "code",
   "execution_count": 31,
   "id": "8d12aa62",
   "metadata": {
    "execution": {
     "iopub.execute_input": "2022-11-02T04:55:57.260056Z",
     "iopub.status.busy": "2022-11-02T04:55:57.259676Z",
     "iopub.status.idle": "2022-11-02T04:55:57.345364Z",
     "shell.execute_reply": "2022-11-02T04:55:57.344031Z"
    },
    "papermill": {
     "duration": 0.106643,
     "end_time": "2022-11-02T04:55:57.347663",
     "exception": false,
     "start_time": "2022-11-02T04:55:57.241020",
     "status": "completed"
    },
    "tags": []
   },
   "outputs": [],
   "source": [
    "final_test_data = meta_attributes_add(test_cleaned_df.groupby('cluster'),test_cleaned_df,selected_cols)"
   ]
  },
  {
   "cell_type": "code",
   "execution_count": 32,
   "id": "ab125c51",
   "metadata": {
    "execution": {
     "iopub.execute_input": "2022-11-02T04:55:57.383868Z",
     "iopub.status.busy": "2022-11-02T04:55:57.383579Z",
     "iopub.status.idle": "2022-11-02T04:55:57.411357Z",
     "shell.execute_reply": "2022-11-02T04:55:57.410775Z"
    },
    "papermill": {
     "duration": 0.047822,
     "end_time": "2022-11-02T04:55:57.413177",
     "exception": false,
     "start_time": "2022-11-02T04:55:57.365355",
     "status": "completed"
    },
    "tags": []
   },
   "outputs": [
    {
     "data": {
      "text/html": [
       "<div>\n",
       "<style scoped>\n",
       "    .dataframe tbody tr th:only-of-type {\n",
       "        vertical-align: middle;\n",
       "    }\n",
       "\n",
       "    .dataframe tbody tr th {\n",
       "        vertical-align: top;\n",
       "    }\n",
       "\n",
       "    .dataframe thead th {\n",
       "        text-align: right;\n",
       "    }\n",
       "</style>\n",
       "<table border=\"1\" class=\"dataframe\">\n",
       "  <thead>\n",
       "    <tr style=\"text-align: right;\">\n",
       "      <th></th>\n",
       "      <th>loading</th>\n",
       "      <th>attribute_2</th>\n",
       "      <th>attribute_3</th>\n",
       "      <th>measurement_0</th>\n",
       "      <th>measurement_1</th>\n",
       "      <th>measurement_2</th>\n",
       "      <th>measurement_3</th>\n",
       "      <th>measurement_4</th>\n",
       "      <th>measurement_5</th>\n",
       "      <th>measurement_6</th>\n",
       "      <th>...</th>\n",
       "      <th>measurement_9</th>\n",
       "      <th>measurement_10</th>\n",
       "      <th>measurement_11</th>\n",
       "      <th>measurement_12</th>\n",
       "      <th>measurement_13</th>\n",
       "      <th>measurement_14</th>\n",
       "      <th>measurement_15</th>\n",
       "      <th>measurement_16</th>\n",
       "      <th>measurement_17</th>\n",
       "      <th>cluster</th>\n",
       "    </tr>\n",
       "  </thead>\n",
       "  <tbody>\n",
       "    <tr>\n",
       "      <th>0</th>\n",
       "      <td>80.10</td>\n",
       "      <td>9</td>\n",
       "      <td>5</td>\n",
       "      <td>7</td>\n",
       "      <td>8</td>\n",
       "      <td>4</td>\n",
       "      <td>18.040</td>\n",
       "      <td>12.5180</td>\n",
       "      <td>15.748</td>\n",
       "      <td>19.292</td>\n",
       "      <td>...</td>\n",
       "      <td>10.6720</td>\n",
       "      <td>15.859</td>\n",
       "      <td>17.5940</td>\n",
       "      <td>15.193</td>\n",
       "      <td>15.029</td>\n",
       "      <td>14.5984</td>\n",
       "      <td>13.034</td>\n",
       "      <td>14.6840</td>\n",
       "      <td>764.100</td>\n",
       "      <td>1</td>\n",
       "    </tr>\n",
       "    <tr>\n",
       "      <th>1</th>\n",
       "      <td>84.89</td>\n",
       "      <td>9</td>\n",
       "      <td>5</td>\n",
       "      <td>14</td>\n",
       "      <td>3</td>\n",
       "      <td>3</td>\n",
       "      <td>18.213</td>\n",
       "      <td>11.5400</td>\n",
       "      <td>17.717</td>\n",
       "      <td>17.893</td>\n",
       "      <td>...</td>\n",
       "      <td>12.4480</td>\n",
       "      <td>17.947</td>\n",
       "      <td>17.9150</td>\n",
       "      <td>11.755</td>\n",
       "      <td>14.732</td>\n",
       "      <td>15.4250</td>\n",
       "      <td>14.395</td>\n",
       "      <td>15.6310</td>\n",
       "      <td>682.057</td>\n",
       "      <td>1</td>\n",
       "    </tr>\n",
       "    <tr>\n",
       "      <th>2</th>\n",
       "      <td>82.43</td>\n",
       "      <td>9</td>\n",
       "      <td>5</td>\n",
       "      <td>12</td>\n",
       "      <td>1</td>\n",
       "      <td>5</td>\n",
       "      <td>18.057</td>\n",
       "      <td>11.6520</td>\n",
       "      <td>16.738</td>\n",
       "      <td>18.240</td>\n",
       "      <td>...</td>\n",
       "      <td>12.7150</td>\n",
       "      <td>15.607</td>\n",
       "      <td>19.1346</td>\n",
       "      <td>13.798</td>\n",
       "      <td>16.711</td>\n",
       "      <td>18.6310</td>\n",
       "      <td>14.094</td>\n",
       "      <td>17.9460</td>\n",
       "      <td>663.376</td>\n",
       "      <td>1</td>\n",
       "    </tr>\n",
       "    <tr>\n",
       "      <th>3</th>\n",
       "      <td>101.07</td>\n",
       "      <td>9</td>\n",
       "      <td>5</td>\n",
       "      <td>13</td>\n",
       "      <td>2</td>\n",
       "      <td>6</td>\n",
       "      <td>17.295</td>\n",
       "      <td>11.1880</td>\n",
       "      <td>18.576</td>\n",
       "      <td>18.339</td>\n",
       "      <td>...</td>\n",
       "      <td>12.4710</td>\n",
       "      <td>16.346</td>\n",
       "      <td>18.3770</td>\n",
       "      <td>10.020</td>\n",
       "      <td>15.250</td>\n",
       "      <td>15.5620</td>\n",
       "      <td>16.154</td>\n",
       "      <td>17.1720</td>\n",
       "      <td>826.282</td>\n",
       "      <td>0</td>\n",
       "    </tr>\n",
       "    <tr>\n",
       "      <th>4</th>\n",
       "      <td>188.06</td>\n",
       "      <td>9</td>\n",
       "      <td>5</td>\n",
       "      <td>9</td>\n",
       "      <td>2</td>\n",
       "      <td>8</td>\n",
       "      <td>19.346</td>\n",
       "      <td>12.9500</td>\n",
       "      <td>16.990</td>\n",
       "      <td>15.746</td>\n",
       "      <td>...</td>\n",
       "      <td>10.3370</td>\n",
       "      <td>17.082</td>\n",
       "      <td>19.9320</td>\n",
       "      <td>12.428</td>\n",
       "      <td>16.182</td>\n",
       "      <td>12.7600</td>\n",
       "      <td>13.153</td>\n",
       "      <td>16.4120</td>\n",
       "      <td>579.885</td>\n",
       "      <td>2</td>\n",
       "    </tr>\n",
       "    <tr>\n",
       "      <th>...</th>\n",
       "      <td>...</td>\n",
       "      <td>...</td>\n",
       "      <td>...</td>\n",
       "      <td>...</td>\n",
       "      <td>...</td>\n",
       "      <td>...</td>\n",
       "      <td>...</td>\n",
       "      <td>...</td>\n",
       "      <td>...</td>\n",
       "      <td>...</td>\n",
       "      <td>...</td>\n",
       "      <td>...</td>\n",
       "      <td>...</td>\n",
       "      <td>...</td>\n",
       "      <td>...</td>\n",
       "      <td>...</td>\n",
       "      <td>...</td>\n",
       "      <td>...</td>\n",
       "      <td>...</td>\n",
       "      <td>...</td>\n",
       "      <td>...</td>\n",
       "    </tr>\n",
       "    <tr>\n",
       "      <th>26565</th>\n",
       "      <td>158.95</td>\n",
       "      <td>6</td>\n",
       "      <td>9</td>\n",
       "      <td>6</td>\n",
       "      <td>16</td>\n",
       "      <td>4</td>\n",
       "      <td>16.301</td>\n",
       "      <td>13.2590</td>\n",
       "      <td>18.068</td>\n",
       "      <td>15.505</td>\n",
       "      <td>...</td>\n",
       "      <td>11.6642</td>\n",
       "      <td>12.177</td>\n",
       "      <td>17.9420</td>\n",
       "      <td>10.112</td>\n",
       "      <td>15.795</td>\n",
       "      <td>18.5720</td>\n",
       "      <td>16.144</td>\n",
       "      <td>15.2864</td>\n",
       "      <td>729.131</td>\n",
       "      <td>1</td>\n",
       "    </tr>\n",
       "    <tr>\n",
       "      <th>26566</th>\n",
       "      <td>146.02</td>\n",
       "      <td>6</td>\n",
       "      <td>9</td>\n",
       "      <td>10</td>\n",
       "      <td>12</td>\n",
       "      <td>8</td>\n",
       "      <td>17.543</td>\n",
       "      <td>11.2736</td>\n",
       "      <td>17.984</td>\n",
       "      <td>19.078</td>\n",
       "      <td>...</td>\n",
       "      <td>11.2420</td>\n",
       "      <td>14.179</td>\n",
       "      <td>20.5640</td>\n",
       "      <td>10.234</td>\n",
       "      <td>14.450</td>\n",
       "      <td>14.3220</td>\n",
       "      <td>13.146</td>\n",
       "      <td>16.4710</td>\n",
       "      <td>853.924</td>\n",
       "      <td>0</td>\n",
       "    </tr>\n",
       "    <tr>\n",
       "      <th>26567</th>\n",
       "      <td>115.62</td>\n",
       "      <td>6</td>\n",
       "      <td>9</td>\n",
       "      <td>1</td>\n",
       "      <td>10</td>\n",
       "      <td>1</td>\n",
       "      <td>15.670</td>\n",
       "      <td>11.5350</td>\n",
       "      <td>16.778</td>\n",
       "      <td>18.385</td>\n",
       "      <td>...</td>\n",
       "      <td>11.4070</td>\n",
       "      <td>16.437</td>\n",
       "      <td>17.4760</td>\n",
       "      <td>8.668</td>\n",
       "      <td>15.069</td>\n",
       "      <td>16.5990</td>\n",
       "      <td>15.590</td>\n",
       "      <td>14.0650</td>\n",
       "      <td>750.364</td>\n",
       "      <td>1</td>\n",
       "    </tr>\n",
       "    <tr>\n",
       "      <th>26568</th>\n",
       "      <td>106.38</td>\n",
       "      <td>6</td>\n",
       "      <td>9</td>\n",
       "      <td>2</td>\n",
       "      <td>9</td>\n",
       "      <td>4</td>\n",
       "      <td>18.059</td>\n",
       "      <td>11.6978</td>\n",
       "      <td>16.918</td>\n",
       "      <td>18.101</td>\n",
       "      <td>...</td>\n",
       "      <td>11.3920</td>\n",
       "      <td>17.064</td>\n",
       "      <td>17.8140</td>\n",
       "      <td>14.928</td>\n",
       "      <td>16.273</td>\n",
       "      <td>15.4850</td>\n",
       "      <td>13.624</td>\n",
       "      <td>12.8650</td>\n",
       "      <td>730.156</td>\n",
       "      <td>1</td>\n",
       "    </tr>\n",
       "    <tr>\n",
       "      <th>26569</th>\n",
       "      <td>131.20</td>\n",
       "      <td>6</td>\n",
       "      <td>9</td>\n",
       "      <td>6</td>\n",
       "      <td>19</td>\n",
       "      <td>1</td>\n",
       "      <td>18.034</td>\n",
       "      <td>11.4310</td>\n",
       "      <td>16.918</td>\n",
       "      <td>17.129</td>\n",
       "      <td>...</td>\n",
       "      <td>10.6110</td>\n",
       "      <td>15.603</td>\n",
       "      <td>19.7030</td>\n",
       "      <td>11.006</td>\n",
       "      <td>15.875</td>\n",
       "      <td>13.3660</td>\n",
       "      <td>16.527</td>\n",
       "      <td>17.8900</td>\n",
       "      <td>602.354</td>\n",
       "      <td>2</td>\n",
       "    </tr>\n",
       "  </tbody>\n",
       "</table>\n",
       "<p>26570 rows × 22 columns</p>\n",
       "</div>"
      ],
      "text/plain": [
       "       loading  attribute_2  attribute_3  measurement_0  measurement_1  \\\n",
       "0        80.10            9            5              7              8   \n",
       "1        84.89            9            5             14              3   \n",
       "2        82.43            9            5             12              1   \n",
       "3       101.07            9            5             13              2   \n",
       "4       188.06            9            5              9              2   \n",
       "...        ...          ...          ...            ...            ...   \n",
       "26565   158.95            6            9              6             16   \n",
       "26566   146.02            6            9             10             12   \n",
       "26567   115.62            6            9              1             10   \n",
       "26568   106.38            6            9              2              9   \n",
       "26569   131.20            6            9              6             19   \n",
       "\n",
       "       measurement_2  measurement_3  measurement_4  measurement_5  \\\n",
       "0                  4         18.040        12.5180         15.748   \n",
       "1                  3         18.213        11.5400         17.717   \n",
       "2                  5         18.057        11.6520         16.738   \n",
       "3                  6         17.295        11.1880         18.576   \n",
       "4                  8         19.346        12.9500         16.990   \n",
       "...              ...            ...            ...            ...   \n",
       "26565              4         16.301        13.2590         18.068   \n",
       "26566              8         17.543        11.2736         17.984   \n",
       "26567              1         15.670        11.5350         16.778   \n",
       "26568              4         18.059        11.6978         16.918   \n",
       "26569              1         18.034        11.4310         16.918   \n",
       "\n",
       "       measurement_6  ...  measurement_9  measurement_10  measurement_11  \\\n",
       "0             19.292  ...        10.6720          15.859         17.5940   \n",
       "1             17.893  ...        12.4480          17.947         17.9150   \n",
       "2             18.240  ...        12.7150          15.607         19.1346   \n",
       "3             18.339  ...        12.4710          16.346         18.3770   \n",
       "4             15.746  ...        10.3370          17.082         19.9320   \n",
       "...              ...  ...            ...             ...             ...   \n",
       "26565         15.505  ...        11.6642          12.177         17.9420   \n",
       "26566         19.078  ...        11.2420          14.179         20.5640   \n",
       "26567         18.385  ...        11.4070          16.437         17.4760   \n",
       "26568         18.101  ...        11.3920          17.064         17.8140   \n",
       "26569         17.129  ...        10.6110          15.603         19.7030   \n",
       "\n",
       "       measurement_12  measurement_13  measurement_14  measurement_15  \\\n",
       "0              15.193          15.029         14.5984          13.034   \n",
       "1              11.755          14.732         15.4250          14.395   \n",
       "2              13.798          16.711         18.6310          14.094   \n",
       "3              10.020          15.250         15.5620          16.154   \n",
       "4              12.428          16.182         12.7600          13.153   \n",
       "...               ...             ...             ...             ...   \n",
       "26565          10.112          15.795         18.5720          16.144   \n",
       "26566          10.234          14.450         14.3220          13.146   \n",
       "26567           8.668          15.069         16.5990          15.590   \n",
       "26568          14.928          16.273         15.4850          13.624   \n",
       "26569          11.006          15.875         13.3660          16.527   \n",
       "\n",
       "       measurement_16  measurement_17  cluster  \n",
       "0             14.6840         764.100        1  \n",
       "1             15.6310         682.057        1  \n",
       "2             17.9460         663.376        1  \n",
       "3             17.1720         826.282        0  \n",
       "4             16.4120         579.885        2  \n",
       "...               ...             ...      ...  \n",
       "26565         15.2864         729.131        1  \n",
       "26566         16.4710         853.924        0  \n",
       "26567         14.0650         750.364        1  \n",
       "26568         12.8650         730.156        1  \n",
       "26569         17.8900         602.354        2  \n",
       "\n",
       "[26570 rows x 22 columns]"
      ]
     },
     "execution_count": 32,
     "metadata": {},
     "output_type": "execute_result"
    }
   ],
   "source": [
    "train_cleaned_df"
   ]
  },
  {
   "cell_type": "code",
   "execution_count": 33,
   "id": "cc68c87a",
   "metadata": {
    "execution": {
     "iopub.execute_input": "2022-11-02T04:55:57.454467Z",
     "iopub.status.busy": "2022-11-02T04:55:57.453318Z",
     "iopub.status.idle": "2022-11-02T04:55:57.473233Z",
     "shell.execute_reply": "2022-11-02T04:55:57.472282Z"
    },
    "papermill": {
     "duration": 0.04073,
     "end_time": "2022-11-02T04:55:57.475555",
     "exception": false,
     "start_time": "2022-11-02T04:55:57.434825",
     "status": "completed"
    },
    "tags": []
   },
   "outputs": [],
   "source": [
    "from sklearn.model_selection import train_test_split\n",
    "X_train, X_test, y_train, y_test = train_test_split(final_train_data,train_label,random_state=SEED,stratify = final_train_data['cluster'],test_size = 0.2)"
   ]
  },
  {
   "cell_type": "code",
   "execution_count": 34,
   "id": "8eed0d2c",
   "metadata": {
    "execution": {
     "iopub.execute_input": "2022-11-02T04:55:57.512256Z",
     "iopub.status.busy": "2022-11-02T04:55:57.511951Z",
     "iopub.status.idle": "2022-11-02T04:55:57.516531Z",
     "shell.execute_reply": "2022-11-02T04:55:57.515615Z"
    },
    "papermill": {
     "duration": 0.024907,
     "end_time": "2022-11-02T04:55:57.518218",
     "exception": false,
     "start_time": "2022-11-02T04:55:57.493311",
     "status": "completed"
    },
    "tags": []
   },
   "outputs": [],
   "source": [
    "rd_forest = RandomForestClassifier(n_estimators=100,max_depth = 4)"
   ]
  },
  {
   "cell_type": "code",
   "execution_count": 35,
   "id": "85f1cce0",
   "metadata": {
    "execution": {
     "iopub.execute_input": "2022-11-02T04:55:57.556647Z",
     "iopub.status.busy": "2022-11-02T04:55:57.556287Z",
     "iopub.status.idle": "2022-11-02T04:55:57.660744Z",
     "shell.execute_reply": "2022-11-02T04:55:57.659783Z"
    },
    "papermill": {
     "duration": 0.125259,
     "end_time": "2022-11-02T04:55:57.663048",
     "exception": false,
     "start_time": "2022-11-02T04:55:57.537789",
     "status": "completed"
    },
    "tags": []
   },
   "outputs": [],
   "source": [
    "from xgboost import XGBClassifier\n",
    "XGB_PARAMS = {'objective': 'binary:logistic',\n",
    "              'eval_metric': \"auc\",\n",
    "              'boosting_type': 'gbdt',\n",
    "              'learning_rate': 0.01,\n",
    "                  'max_depth': 6,\n",
    "                  \"min_child_weight\": 200,}\n",
    "xgb = XGBClassifier(**XGB_PARAMS)"
   ]
  },
  {
   "cell_type": "code",
   "execution_count": 36,
   "id": "499529f3",
   "metadata": {
    "execution": {
     "iopub.execute_input": "2022-11-02T04:55:57.700429Z",
     "iopub.status.busy": "2022-11-02T04:55:57.699295Z",
     "iopub.status.idle": "2022-11-02T04:55:57.795316Z",
     "shell.execute_reply": "2022-11-02T04:55:57.793592Z"
    },
    "papermill": {
     "duration": 0.116318,
     "end_time": "2022-11-02T04:55:57.797176",
     "exception": false,
     "start_time": "2022-11-02T04:55:57.680858",
     "status": "completed"
    },
    "tags": []
   },
   "outputs": [
    {
     "name": "stdout",
     "output_type": "stream",
     "text": [
      "Oversampled: Counter({0: 16753, 1: 16753})\n"
     ]
    }
   ],
   "source": [
    "from imblearn.over_sampling import RandomOverSampler,SMOTE\n",
    "from imblearn.under_sampling import RandomUnderSampler\n",
    "from collections import Counter\n",
    "ros = RandomOverSampler()\n",
    "X_ros, y_ros = ros.fit_resample(X_train, y_train)\n",
    "print(f\"Oversampled: {Counter(y_ros)}\")"
   ]
  },
  {
   "cell_type": "code",
   "execution_count": 37,
   "id": "22859b1c",
   "metadata": {
    "execution": {
     "iopub.execute_input": "2022-11-02T04:55:57.834285Z",
     "iopub.status.busy": "2022-11-02T04:55:57.833900Z",
     "iopub.status.idle": "2022-11-02T04:55:57.877007Z",
     "shell.execute_reply": "2022-11-02T04:55:57.875616Z"
    },
    "papermill": {
     "duration": 0.06439,
     "end_time": "2022-11-02T04:55:57.879288",
     "exception": false,
     "start_time": "2022-11-02T04:55:57.814898",
     "status": "completed"
    },
    "tags": []
   },
   "outputs": [
    {
     "name": "stdout",
     "output_type": "stream",
     "text": [
      "Oversampled: Counter({0: 10470, 1: 8376})\n"
     ]
    }
   ],
   "source": [
    "over = RandomOverSampler(sampling_strategy=0.5)\n",
    "under = RandomUnderSampler(sampling_strategy=0.8)\n",
    "X_over, y_over = over.fit_resample(X_train, y_train)\n",
    "X_combined_sampling, y_combined_sampling = under.fit_resample(X_over, y_over)\n",
    "print(f\"Oversampled: {Counter(y_combined_sampling)}\")"
   ]
  },
  {
   "cell_type": "code",
   "execution_count": 38,
   "id": "0eaac74f",
   "metadata": {
    "execution": {
     "iopub.execute_input": "2022-11-02T04:55:57.918047Z",
     "iopub.status.busy": "2022-11-02T04:55:57.917168Z",
     "iopub.status.idle": "2022-11-02T04:56:01.643514Z",
     "shell.execute_reply": "2022-11-02T04:56:01.642779Z"
    },
    "papermill": {
     "duration": 3.747905,
     "end_time": "2022-11-02T04:56:01.645823",
     "exception": false,
     "start_time": "2022-11-02T04:55:57.897918",
     "status": "completed"
    },
    "tags": []
   },
   "outputs": [
    {
     "name": "stdout",
     "output_type": "stream",
     "text": [
      "[04:55:57] WARNING: ../src/learner.cc:627: \n",
      "Parameters: { \"boosting_type\" } might not be used.\n",
      "\n",
      "  This could be a false alarm, with some parameters getting used by language bindings but\n",
      "  then being mistakenly passed down to XGBoost core, or some parameter actually being used\n",
      "  but getting flagged wrongly here. Please open an issue if you find any such cases.\n",
      "\n",
      "\n"
     ]
    }
   ],
   "source": [
    "from sklearn.metrics import confusion_matrix\n",
    "xgb.fit(X_ros,y_ros)\n",
    "preds = xgb.predict(X_test)\n"
   ]
  },
  {
   "cell_type": "code",
   "execution_count": 39,
   "id": "038b6282",
   "metadata": {
    "execution": {
     "iopub.execute_input": "2022-11-02T04:56:01.685243Z",
     "iopub.status.busy": "2022-11-02T04:56:01.684719Z",
     "iopub.status.idle": "2022-11-02T04:56:01.697540Z",
     "shell.execute_reply": "2022-11-02T04:56:01.696894Z"
    },
    "papermill": {
     "duration": 0.034833,
     "end_time": "2022-11-02T04:56:01.699615",
     "exception": false,
     "start_time": "2022-11-02T04:56:01.664782",
     "status": "completed"
    },
    "tags": []
   },
   "outputs": [],
   "source": [
    "preds = xgb.predict(X_test)"
   ]
  },
  {
   "cell_type": "code",
   "execution_count": 40,
   "id": "165ab627",
   "metadata": {
    "execution": {
     "iopub.execute_input": "2022-11-02T04:56:01.738378Z",
     "iopub.status.busy": "2022-11-02T04:56:01.737517Z",
     "iopub.status.idle": "2022-11-02T04:56:01.932696Z",
     "shell.execute_reply": "2022-11-02T04:56:01.931145Z"
    },
    "papermill": {
     "duration": 0.216888,
     "end_time": "2022-11-02T04:56:01.935046",
     "exception": false,
     "start_time": "2022-11-02T04:56:01.718158",
     "status": "completed"
    },
    "tags": []
   },
   "outputs": [
    {
     "data": {
      "text/plain": [
       "<AxesSubplot:>"
      ]
     },
     "execution_count": 40,
     "metadata": {},
     "output_type": "execute_result"
    },
    {
     "data": {
      "image/png": "[encoded data removed]",
      "text/plain": [
       "<Figure size 720x576 with 2 Axes>"
      ]
     },
     "metadata": {
      "needs_background": "light"
     },
     "output_type": "display_data"
    }
   ],
   "source": [
    "import seaborn as sns\n",
    "from matplotlib import pyplot as plt\n",
    "cf_train_matrix = confusion_matrix(y_test, preds)\n",
    "plt.figure(figsize=(10,8))\n",
    "sns.heatmap(cf_train_matrix, annot=True, fmt='d')"
   ]
  },
  {
   "cell_type": "code",
   "execution_count": 41,
   "id": "fee2b632",
   "metadata": {
    "execution": {
     "iopub.execute_input": "2022-11-02T04:56:01.973762Z",
     "iopub.status.busy": "2022-11-02T04:56:01.973393Z",
     "iopub.status.idle": "2022-11-02T04:56:01.979962Z",
     "shell.execute_reply": "2022-11-02T04:56:01.978819Z"
    },
    "papermill": {
     "duration": 0.028182,
     "end_time": "2022-11-02T04:56:01.982022",
     "exception": false,
     "start_time": "2022-11-02T04:56:01.953840",
     "status": "completed"
    },
    "tags": []
   },
   "outputs": [
    {
     "name": "stdout",
     "output_type": "stream",
     "text": [
      "0.5616043703711148\n"
     ]
    }
   ],
   "source": [
    "from sklearn.metrics import roc_auc_score\n",
    "print(roc_auc_score(y_test, preds))"
   ]
  },
  {
   "cell_type": "code",
   "execution_count": 42,
   "id": "a0664530",
   "metadata": {
    "execution": {
     "iopub.execute_input": "2022-11-02T04:56:02.022753Z",
     "iopub.status.busy": "2022-11-02T04:56:02.022177Z",
     "iopub.status.idle": "2022-11-02T04:56:02.057386Z",
     "shell.execute_reply": "2022-11-02T04:56:02.056359Z"
    },
    "papermill": {
     "duration": 0.057736,
     "end_time": "2022-11-02T04:56:02.059782",
     "exception": false,
     "start_time": "2022-11-02T04:56:02.002046",
     "status": "completed"
    },
    "tags": []
   },
   "outputs": [],
   "source": [
    "final_test_data['failure'] = xgb.predict(final_test_data)\n",
    "\n",
    "#submission.to_csv('mean_benchmark.csv')"
   ]
  },
  {
   "cell_type": "code",
   "execution_count": 43,
   "id": "36b5ab19",
   "metadata": {
    "execution": {
     "iopub.execute_input": "2022-11-02T04:56:02.098410Z",
     "iopub.status.busy": "2022-11-02T04:56:02.098082Z",
     "iopub.status.idle": "2022-11-02T04:56:02.137707Z",
     "shell.execute_reply": "2022-11-02T04:56:02.136680Z"
    },
    "papermill": {
     "duration": 0.061382,
     "end_time": "2022-11-02T04:56:02.139868",
     "exception": false,
     "start_time": "2022-11-02T04:56:02.078486",
     "status": "completed"
    },
    "tags": []
   },
   "outputs": [],
   "source": [
    "test = pd.read_csv('/kaggle/input/tabular-playground-series-aug-2022/test.csv')"
   ]
  },
  {
   "cell_type": "code",
   "execution_count": 44,
   "id": "c3f557e8",
   "metadata": {
    "execution": {
     "iopub.execute_input": "2022-11-02T04:56:02.178074Z",
     "iopub.status.busy": "2022-11-02T04:56:02.177689Z",
     "iopub.status.idle": "2022-11-02T04:56:02.210763Z",
     "shell.execute_reply": "2022-11-02T04:56:02.209695Z"
    },
    "papermill": {
     "duration": 0.054912,
     "end_time": "2022-11-02T04:56:02.213265",
     "exception": false,
     "start_time": "2022-11-02T04:56:02.158353",
     "status": "completed"
    },
    "tags": []
   },
   "outputs": [],
   "source": [
    "submission = pd.concat([test['id'],final_test_data['failure']],axis = 1)\n",
    "submission.to_csv('attemp1.csv')"
   ]
  }
 ],
 "metadata": {
  "kernelspec": {
   "display_name": "Python 3",
   "language": "python",
   "name": "python3"
  },
  "language_info": {
   "codemirror_mode": {
    "name": "ipython",
    "version": 3
   },
   "file_extension": ".py",
   "mimetype": "text/x-python",
   "name": "python",
   "nbconvert_exporter": "python",
   "pygments_lexer": "ipython3",
   "version": "3.7.12"
  },
  "papermill": {
   "default_parameters": {},
   "duration": 523.138231,
   "end_time": "2022-11-02T04:56:04.853115",
   "environment_variables": {},
   "exception": null,
   "input_path": "__notebook__.ipynb",
   "output_path": "__notebook__.ipynb",
   "parameters": {},
   "start_time": "2022-11-02T04:47:21.714884",
   "version": "2.3.4"
  }
 },
 "nbformat": 4,
 "nbformat_minor": 5
}
